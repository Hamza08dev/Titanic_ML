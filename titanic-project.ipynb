{
 "cells": [
  {
   "cell_type": "code",
   "execution_count": 1,
   "id": "0756c976",
   "metadata": {
    "_cell_guid": "b1076dfc-b9ad-4769-8c92-a6c4dae69d19",
    "_uuid": "8f2839f25d086af736a60e9eeb907d3b93b6e0e5",
    "execution": {
     "iopub.execute_input": "2021-08-12T10:53:44.167653Z",
     "iopub.status.busy": "2021-08-12T10:53:44.166329Z",
     "iopub.status.idle": "2021-08-12T10:53:45.171008Z",
     "shell.execute_reply": "2021-08-12T10:53:45.170372Z",
     "shell.execute_reply.started": "2021-08-12T10:24:42.144866Z"
    },
    "papermill": {
     "duration": 1.055814,
     "end_time": "2021-08-12T10:53:45.171181",
     "exception": false,
     "start_time": "2021-08-12T10:53:44.115367",
     "status": "completed"
    },
    "tags": []
   },
   "outputs": [
    {
     "name": "stdout",
     "output_type": "stream",
     "text": [
      "/kaggle/input/titanic/train.csv\n",
      "/kaggle/input/titanic/test.csv\n",
      "/kaggle/input/titanic/gender_submission.csv\n"
     ]
    }
   ],
   "source": [
    "# This Python 3 environment comes with many helpful analytics libraries installed\n",
    "# It is defined by the kaggle/python Docker image: https://github.com/kaggle/docker-python\n",
    "# For example, here's several helpful packages to load\n",
    "\n",
    "import numpy as np # linear algebra\n",
    "import pandas as pd # data processing, CSV file I/O (e.g. pd.read_csv)\n",
    "import seaborn as sns\n",
    "import matplotlib.pyplot as plt\n",
    "\n",
    "# Input data files are available in the read-only \"../input/\" directory\n",
    "# For example, running this (by clicking run or pressing Shift+Enter) will list all files under the input directory\n",
    "\n",
    "import os\n",
    "for dirname, _, filenames in os.walk('/kaggle/input'):\n",
    "    for filename in filenames:\n",
    "        print(os.path.join(dirname, filename))\n",
    "\n",
    "# You can write up to 20GB to the current directory (/kaggle/working/) that gets preserved as output when you create a version using \"Save & Run All\" \n",
    "# You can also write temporary files to /kaggle/temp/, but they won't be saved outside of the current session"
   ]
  },
  {
   "cell_type": "code",
   "execution_count": 2,
   "id": "d283c4ee",
   "metadata": {
    "execution": {
     "iopub.execute_input": "2021-08-12T10:53:45.271073Z",
     "iopub.status.busy": "2021-08-12T10:53:45.270249Z",
     "iopub.status.idle": "2021-08-12T10:53:45.320200Z",
     "shell.execute_reply": "2021-08-12T10:53:45.320773Z",
     "shell.execute_reply.started": "2021-08-12T10:24:42.162864Z"
    },
    "papermill": {
     "duration": 0.102539,
     "end_time": "2021-08-12T10:53:45.321019",
     "exception": false,
     "start_time": "2021-08-12T10:53:45.218480",
     "status": "completed"
    },
    "tags": []
   },
   "outputs": [
    {
     "data": {
      "text/html": [
       "<div>\n",
       "<style scoped>\n",
       "    .dataframe tbody tr th:only-of-type {\n",
       "        vertical-align: middle;\n",
       "    }\n",
       "\n",
       "    .dataframe tbody tr th {\n",
       "        vertical-align: top;\n",
       "    }\n",
       "\n",
       "    .dataframe thead th {\n",
       "        text-align: right;\n",
       "    }\n",
       "</style>\n",
       "<table border=\"1\" class=\"dataframe\">\n",
       "  <thead>\n",
       "    <tr style=\"text-align: right;\">\n",
       "      <th></th>\n",
       "      <th>PassengerId</th>\n",
       "      <th>Survived</th>\n",
       "      <th>Pclass</th>\n",
       "      <th>Name</th>\n",
       "      <th>Sex</th>\n",
       "      <th>Age</th>\n",
       "      <th>SibSp</th>\n",
       "      <th>Parch</th>\n",
       "      <th>Ticket</th>\n",
       "      <th>Fare</th>\n",
       "      <th>Cabin</th>\n",
       "      <th>Embarked</th>\n",
       "    </tr>\n",
       "  </thead>\n",
       "  <tbody>\n",
       "    <tr>\n",
       "      <th>0</th>\n",
       "      <td>1</td>\n",
       "      <td>0</td>\n",
       "      <td>3</td>\n",
       "      <td>Braund, Mr. Owen Harris</td>\n",
       "      <td>male</td>\n",
       "      <td>22.0</td>\n",
       "      <td>1</td>\n",
       "      <td>0</td>\n",
       "      <td>A/5 21171</td>\n",
       "      <td>7.2500</td>\n",
       "      <td>NaN</td>\n",
       "      <td>S</td>\n",
       "    </tr>\n",
       "    <tr>\n",
       "      <th>1</th>\n",
       "      <td>2</td>\n",
       "      <td>1</td>\n",
       "      <td>1</td>\n",
       "      <td>Cumings, Mrs. John Bradley (Florence Briggs Th...</td>\n",
       "      <td>female</td>\n",
       "      <td>38.0</td>\n",
       "      <td>1</td>\n",
       "      <td>0</td>\n",
       "      <td>PC 17599</td>\n",
       "      <td>71.2833</td>\n",
       "      <td>C85</td>\n",
       "      <td>C</td>\n",
       "    </tr>\n",
       "    <tr>\n",
       "      <th>2</th>\n",
       "      <td>3</td>\n",
       "      <td>1</td>\n",
       "      <td>3</td>\n",
       "      <td>Heikkinen, Miss. Laina</td>\n",
       "      <td>female</td>\n",
       "      <td>26.0</td>\n",
       "      <td>0</td>\n",
       "      <td>0</td>\n",
       "      <td>STON/O2. 3101282</td>\n",
       "      <td>7.9250</td>\n",
       "      <td>NaN</td>\n",
       "      <td>S</td>\n",
       "    </tr>\n",
       "    <tr>\n",
       "      <th>3</th>\n",
       "      <td>4</td>\n",
       "      <td>1</td>\n",
       "      <td>1</td>\n",
       "      <td>Futrelle, Mrs. Jacques Heath (Lily May Peel)</td>\n",
       "      <td>female</td>\n",
       "      <td>35.0</td>\n",
       "      <td>1</td>\n",
       "      <td>0</td>\n",
       "      <td>113803</td>\n",
       "      <td>53.1000</td>\n",
       "      <td>C123</td>\n",
       "      <td>S</td>\n",
       "    </tr>\n",
       "    <tr>\n",
       "      <th>4</th>\n",
       "      <td>5</td>\n",
       "      <td>0</td>\n",
       "      <td>3</td>\n",
       "      <td>Allen, Mr. William Henry</td>\n",
       "      <td>male</td>\n",
       "      <td>35.0</td>\n",
       "      <td>0</td>\n",
       "      <td>0</td>\n",
       "      <td>373450</td>\n",
       "      <td>8.0500</td>\n",
       "      <td>NaN</td>\n",
       "      <td>S</td>\n",
       "    </tr>\n",
       "    <tr>\n",
       "      <th>5</th>\n",
       "      <td>6</td>\n",
       "      <td>0</td>\n",
       "      <td>3</td>\n",
       "      <td>Moran, Mr. James</td>\n",
       "      <td>male</td>\n",
       "      <td>NaN</td>\n",
       "      <td>0</td>\n",
       "      <td>0</td>\n",
       "      <td>330877</td>\n",
       "      <td>8.4583</td>\n",
       "      <td>NaN</td>\n",
       "      <td>Q</td>\n",
       "    </tr>\n",
       "    <tr>\n",
       "      <th>6</th>\n",
       "      <td>7</td>\n",
       "      <td>0</td>\n",
       "      <td>1</td>\n",
       "      <td>McCarthy, Mr. Timothy J</td>\n",
       "      <td>male</td>\n",
       "      <td>54.0</td>\n",
       "      <td>0</td>\n",
       "      <td>0</td>\n",
       "      <td>17463</td>\n",
       "      <td>51.8625</td>\n",
       "      <td>E46</td>\n",
       "      <td>S</td>\n",
       "    </tr>\n",
       "    <tr>\n",
       "      <th>7</th>\n",
       "      <td>8</td>\n",
       "      <td>0</td>\n",
       "      <td>3</td>\n",
       "      <td>Palsson, Master. Gosta Leonard</td>\n",
       "      <td>male</td>\n",
       "      <td>2.0</td>\n",
       "      <td>3</td>\n",
       "      <td>1</td>\n",
       "      <td>349909</td>\n",
       "      <td>21.0750</td>\n",
       "      <td>NaN</td>\n",
       "      <td>S</td>\n",
       "    </tr>\n",
       "    <tr>\n",
       "      <th>8</th>\n",
       "      <td>9</td>\n",
       "      <td>1</td>\n",
       "      <td>3</td>\n",
       "      <td>Johnson, Mrs. Oscar W (Elisabeth Vilhelmina Berg)</td>\n",
       "      <td>female</td>\n",
       "      <td>27.0</td>\n",
       "      <td>0</td>\n",
       "      <td>2</td>\n",
       "      <td>347742</td>\n",
       "      <td>11.1333</td>\n",
       "      <td>NaN</td>\n",
       "      <td>S</td>\n",
       "    </tr>\n",
       "    <tr>\n",
       "      <th>9</th>\n",
       "      <td>10</td>\n",
       "      <td>1</td>\n",
       "      <td>2</td>\n",
       "      <td>Nasser, Mrs. Nicholas (Adele Achem)</td>\n",
       "      <td>female</td>\n",
       "      <td>14.0</td>\n",
       "      <td>1</td>\n",
       "      <td>0</td>\n",
       "      <td>237736</td>\n",
       "      <td>30.0708</td>\n",
       "      <td>NaN</td>\n",
       "      <td>C</td>\n",
       "    </tr>\n",
       "  </tbody>\n",
       "</table>\n",
       "</div>"
      ],
      "text/plain": [
       "   PassengerId  Survived  Pclass  \\\n",
       "0            1         0       3   \n",
       "1            2         1       1   \n",
       "2            3         1       3   \n",
       "3            4         1       1   \n",
       "4            5         0       3   \n",
       "5            6         0       3   \n",
       "6            7         0       1   \n",
       "7            8         0       3   \n",
       "8            9         1       3   \n",
       "9           10         1       2   \n",
       "\n",
       "                                                Name     Sex   Age  SibSp  \\\n",
       "0                            Braund, Mr. Owen Harris    male  22.0      1   \n",
       "1  Cumings, Mrs. John Bradley (Florence Briggs Th...  female  38.0      1   \n",
       "2                             Heikkinen, Miss. Laina  female  26.0      0   \n",
       "3       Futrelle, Mrs. Jacques Heath (Lily May Peel)  female  35.0      1   \n",
       "4                           Allen, Mr. William Henry    male  35.0      0   \n",
       "5                                   Moran, Mr. James    male   NaN      0   \n",
       "6                            McCarthy, Mr. Timothy J    male  54.0      0   \n",
       "7                     Palsson, Master. Gosta Leonard    male   2.0      3   \n",
       "8  Johnson, Mrs. Oscar W (Elisabeth Vilhelmina Berg)  female  27.0      0   \n",
       "9                Nasser, Mrs. Nicholas (Adele Achem)  female  14.0      1   \n",
       "\n",
       "   Parch            Ticket     Fare Cabin Embarked  \n",
       "0      0         A/5 21171   7.2500   NaN        S  \n",
       "1      0          PC 17599  71.2833   C85        C  \n",
       "2      0  STON/O2. 3101282   7.9250   NaN        S  \n",
       "3      0            113803  53.1000  C123        S  \n",
       "4      0            373450   8.0500   NaN        S  \n",
       "5      0            330877   8.4583   NaN        Q  \n",
       "6      0             17463  51.8625   E46        S  \n",
       "7      1            349909  21.0750   NaN        S  \n",
       "8      2            347742  11.1333   NaN        S  \n",
       "9      0            237736  30.0708   NaN        C  "
      ]
     },
     "execution_count": 2,
     "metadata": {},
     "output_type": "execute_result"
    }
   ],
   "source": [
    "traindf = pd.read_csv(\"/kaggle/input/titanic/train.csv\")\n",
    "traindf.head(10)"
   ]
  },
  {
   "cell_type": "code",
   "execution_count": 3,
   "id": "a61f26c2",
   "metadata": {
    "execution": {
     "iopub.execute_input": "2021-08-12T10:53:45.434792Z",
     "iopub.status.busy": "2021-08-12T10:53:45.434126Z",
     "iopub.status.idle": "2021-08-12T10:53:45.480331Z",
     "shell.execute_reply": "2021-08-12T10:53:45.479830Z",
     "shell.execute_reply.started": "2021-08-12T10:24:42.192014Z"
    },
    "papermill": {
     "duration": 0.096239,
     "end_time": "2021-08-12T10:53:45.480471",
     "exception": false,
     "start_time": "2021-08-12T10:53:45.384232",
     "status": "completed"
    },
    "tags": []
   },
   "outputs": [
    {
     "data": {
      "text/html": [
       "<div>\n",
       "<style scoped>\n",
       "    .dataframe tbody tr th:only-of-type {\n",
       "        vertical-align: middle;\n",
       "    }\n",
       "\n",
       "    .dataframe tbody tr th {\n",
       "        vertical-align: top;\n",
       "    }\n",
       "\n",
       "    .dataframe thead th {\n",
       "        text-align: right;\n",
       "    }\n",
       "</style>\n",
       "<table border=\"1\" class=\"dataframe\">\n",
       "  <thead>\n",
       "    <tr style=\"text-align: right;\">\n",
       "      <th></th>\n",
       "      <th>PassengerId</th>\n",
       "      <th>Survived</th>\n",
       "      <th>Pclass</th>\n",
       "      <th>Age</th>\n",
       "      <th>SibSp</th>\n",
       "      <th>Parch</th>\n",
       "      <th>Fare</th>\n",
       "    </tr>\n",
       "  </thead>\n",
       "  <tbody>\n",
       "    <tr>\n",
       "      <th>count</th>\n",
       "      <td>891.000000</td>\n",
       "      <td>891.000000</td>\n",
       "      <td>891.000000</td>\n",
       "      <td>714.000000</td>\n",
       "      <td>891.000000</td>\n",
       "      <td>891.000000</td>\n",
       "      <td>891.000000</td>\n",
       "    </tr>\n",
       "    <tr>\n",
       "      <th>mean</th>\n",
       "      <td>446.000000</td>\n",
       "      <td>0.383838</td>\n",
       "      <td>2.308642</td>\n",
       "      <td>29.699118</td>\n",
       "      <td>0.523008</td>\n",
       "      <td>0.381594</td>\n",
       "      <td>32.204208</td>\n",
       "    </tr>\n",
       "    <tr>\n",
       "      <th>std</th>\n",
       "      <td>257.353842</td>\n",
       "      <td>0.486592</td>\n",
       "      <td>0.836071</td>\n",
       "      <td>14.526497</td>\n",
       "      <td>1.102743</td>\n",
       "      <td>0.806057</td>\n",
       "      <td>49.693429</td>\n",
       "    </tr>\n",
       "    <tr>\n",
       "      <th>min</th>\n",
       "      <td>1.000000</td>\n",
       "      <td>0.000000</td>\n",
       "      <td>1.000000</td>\n",
       "      <td>0.420000</td>\n",
       "      <td>0.000000</td>\n",
       "      <td>0.000000</td>\n",
       "      <td>0.000000</td>\n",
       "    </tr>\n",
       "    <tr>\n",
       "      <th>25%</th>\n",
       "      <td>223.500000</td>\n",
       "      <td>0.000000</td>\n",
       "      <td>2.000000</td>\n",
       "      <td>20.125000</td>\n",
       "      <td>0.000000</td>\n",
       "      <td>0.000000</td>\n",
       "      <td>7.910400</td>\n",
       "    </tr>\n",
       "    <tr>\n",
       "      <th>50%</th>\n",
       "      <td>446.000000</td>\n",
       "      <td>0.000000</td>\n",
       "      <td>3.000000</td>\n",
       "      <td>28.000000</td>\n",
       "      <td>0.000000</td>\n",
       "      <td>0.000000</td>\n",
       "      <td>14.454200</td>\n",
       "    </tr>\n",
       "    <tr>\n",
       "      <th>75%</th>\n",
       "      <td>668.500000</td>\n",
       "      <td>1.000000</td>\n",
       "      <td>3.000000</td>\n",
       "      <td>38.000000</td>\n",
       "      <td>1.000000</td>\n",
       "      <td>0.000000</td>\n",
       "      <td>31.000000</td>\n",
       "    </tr>\n",
       "    <tr>\n",
       "      <th>max</th>\n",
       "      <td>891.000000</td>\n",
       "      <td>1.000000</td>\n",
       "      <td>3.000000</td>\n",
       "      <td>80.000000</td>\n",
       "      <td>8.000000</td>\n",
       "      <td>6.000000</td>\n",
       "      <td>512.329200</td>\n",
       "    </tr>\n",
       "  </tbody>\n",
       "</table>\n",
       "</div>"
      ],
      "text/plain": [
       "       PassengerId    Survived      Pclass         Age       SibSp  \\\n",
       "count   891.000000  891.000000  891.000000  714.000000  891.000000   \n",
       "mean    446.000000    0.383838    2.308642   29.699118    0.523008   \n",
       "std     257.353842    0.486592    0.836071   14.526497    1.102743   \n",
       "min       1.000000    0.000000    1.000000    0.420000    0.000000   \n",
       "25%     223.500000    0.000000    2.000000   20.125000    0.000000   \n",
       "50%     446.000000    0.000000    3.000000   28.000000    0.000000   \n",
       "75%     668.500000    1.000000    3.000000   38.000000    1.000000   \n",
       "max     891.000000    1.000000    3.000000   80.000000    8.000000   \n",
       "\n",
       "            Parch        Fare  \n",
       "count  891.000000  891.000000  \n",
       "mean     0.381594   32.204208  \n",
       "std      0.806057   49.693429  \n",
       "min      0.000000    0.000000  \n",
       "25%      0.000000    7.910400  \n",
       "50%      0.000000   14.454200  \n",
       "75%      0.000000   31.000000  \n",
       "max      6.000000  512.329200  "
      ]
     },
     "execution_count": 3,
     "metadata": {},
     "output_type": "execute_result"
    }
   ],
   "source": [
    "traindf.describe()"
   ]
  },
  {
   "cell_type": "code",
   "execution_count": 4,
   "id": "c6c9f5e6",
   "metadata": {
    "execution": {
     "iopub.execute_input": "2021-08-12T10:53:45.594689Z",
     "iopub.status.busy": "2021-08-12T10:53:45.593815Z",
     "iopub.status.idle": "2021-08-12T10:53:45.597680Z",
     "shell.execute_reply": "2021-08-12T10:53:45.598358Z",
     "shell.execute_reply.started": "2021-08-12T10:24:42.229998Z"
    },
    "papermill": {
     "duration": 0.068118,
     "end_time": "2021-08-12T10:53:45.598591",
     "exception": false,
     "start_time": "2021-08-12T10:53:45.530473",
     "status": "completed"
    },
    "tags": []
   },
   "outputs": [
    {
     "data": {
      "text/plain": [
       "0    549\n",
       "1    342\n",
       "Name: Survived, dtype: int64"
      ]
     },
     "execution_count": 4,
     "metadata": {},
     "output_type": "execute_result"
    }
   ],
   "source": [
    "traindf['Survived'].value_counts()"
   ]
  },
  {
   "cell_type": "code",
   "execution_count": 5,
   "id": "a1048c47",
   "metadata": {
    "execution": {
     "iopub.execute_input": "2021-08-12T10:53:45.715935Z",
     "iopub.status.busy": "2021-08-12T10:53:45.715227Z",
     "iopub.status.idle": "2021-08-12T10:53:45.913941Z",
     "shell.execute_reply": "2021-08-12T10:53:45.913285Z",
     "shell.execute_reply.started": "2021-08-12T10:24:42.239277Z"
    },
    "papermill": {
     "duration": 0.250702,
     "end_time": "2021-08-12T10:53:45.914107",
     "exception": false,
     "start_time": "2021-08-12T10:53:45.663405",
     "status": "completed"
    },
    "tags": []
   },
   "outputs": [
    {
     "name": "stderr",
     "output_type": "stream",
     "text": [
      "/opt/conda/lib/python3.7/site-packages/seaborn/_decorators.py:43: FutureWarning: Pass the following variable as a keyword arg: x. From version 0.12, the only valid positional argument will be `data`, and passing other arguments without an explicit keyword will result in an error or misinterpretation.\n",
      "  FutureWarning\n"
     ]
    },
    {
     "data": {
      "image/png": "[encoded data removed]",
      "text/plain": [
       "<Figure size 720x360 with 1 Axes>"
      ]
     },
     "metadata": {
      "needs_background": "light"
     },
     "output_type": "display_data"
    }
   ],
   "source": [
    "plt.subplots(figsize=(10,5))\n",
    "plt.style.use('classic')\n",
    "sns.countplot(traindf['Survived']);"
   ]
  },
  {
   "cell_type": "code",
   "execution_count": 6,
   "id": "c3db508c",
   "metadata": {
    "execution": {
     "iopub.execute_input": "2021-08-12T10:53:46.044918Z",
     "iopub.status.busy": "2021-08-12T10:53:46.043824Z",
     "iopub.status.idle": "2021-08-12T10:53:46.248025Z",
     "shell.execute_reply": "2021-08-12T10:53:46.247355Z",
     "shell.execute_reply.started": "2021-08-12T10:24:42.375004Z"
    },
    "papermill": {
     "duration": 0.284376,
     "end_time": "2021-08-12T10:53:46.248176",
     "exception": false,
     "start_time": "2021-08-12T10:53:45.963800",
     "status": "completed"
    },
    "tags": []
   },
   "outputs": [
    {
     "data": {
      "text/plain": [
       "Text(0.5, 0, 'age')"
      ]
     },
     "execution_count": 6,
     "metadata": {},
     "output_type": "execute_result"
    },
    {
     "data": {
      "image/png": "[encoded data removed]",
      "text/plain": [
       "<Figure size 800x480 with 1 Axes>"
      ]
     },
     "metadata": {},
     "output_type": "display_data"
    }
   ],
   "source": [
    "\n",
    "plt.style.use('seaborn-darkgrid')\n",
    "ax, fig = plt.subplots(figsize=(10,6))\n",
    "ax = plt.hist(traindf['Age'], bins=15)\n",
    "plt.ylabel('count')\n",
    "plt.xlabel('age')"
   ]
  },
  {
   "cell_type": "code",
   "execution_count": 7,
   "id": "a21fbd46",
   "metadata": {
    "execution": {
     "iopub.execute_input": "2021-08-12T10:53:46.354368Z",
     "iopub.status.busy": "2021-08-12T10:53:46.353609Z",
     "iopub.status.idle": "2021-08-12T10:53:46.356262Z",
     "shell.execute_reply": "2021-08-12T10:53:46.356717Z",
     "shell.execute_reply.started": "2021-08-12T10:24:42.602377Z"
    },
    "papermill": {
     "duration": 0.058566,
     "end_time": "2021-08-12T10:53:46.356913",
     "exception": false,
     "start_time": "2021-08-12T10:53:46.298347",
     "status": "completed"
    },
    "tags": []
   },
   "outputs": [],
   "source": [
    "heatmap = traindf.corr()"
   ]
  },
  {
   "cell_type": "code",
   "execution_count": 8,
   "id": "b83ee4d4",
   "metadata": {
    "execution": {
     "iopub.execute_input": "2021-08-12T10:53:46.462922Z",
     "iopub.status.busy": "2021-08-12T10:53:46.462218Z",
     "iopub.status.idle": "2021-08-12T10:53:47.046451Z",
     "shell.execute_reply": "2021-08-12T10:53:47.046963Z",
     "shell.execute_reply.started": "2021-08-12T10:24:42.609780Z"
    },
    "papermill": {
     "duration": 0.639515,
     "end_time": "2021-08-12T10:53:47.047161",
     "exception": false,
     "start_time": "2021-08-12T10:53:46.407646",
     "status": "completed"
    },
    "tags": []
   },
   "outputs": [
    {
     "data": {
      "text/plain": [
       "<AxesSubplot:>"
      ]
     },
     "execution_count": 8,
     "metadata": {},
     "output_type": "execute_result"
    },
    {
     "data": {
      "image/png": "[encoded data removed]",
      "text/plain": [
       "<Figure size 800x560 with 2 Axes>"
      ]
     },
     "metadata": {},
     "output_type": "display_data"
    }
   ],
   "source": [
    "plt.figure(figsize=(10,7))\n",
    "sns.heatmap(heatmap, annot=True)"
   ]
  },
  {
   "cell_type": "markdown",
   "id": "07773b0f",
   "metadata": {
    "papermill": {
     "duration": 0.052495,
     "end_time": "2021-08-12T10:53:47.152376",
     "exception": false,
     "start_time": "2021-08-12T10:53:47.099881",
     "status": "completed"
    },
    "tags": []
   },
   "source": [
    "### Filling missing values"
   ]
  },
  {
   "cell_type": "code",
   "execution_count": 9,
   "id": "7ccb9f9a",
   "metadata": {
    "execution": {
     "iopub.execute_input": "2021-08-12T10:53:47.268566Z",
     "iopub.status.busy": "2021-08-12T10:53:47.267561Z",
     "iopub.status.idle": "2021-08-12T10:53:47.296960Z",
     "shell.execute_reply": "2021-08-12T10:53:47.296411Z",
     "shell.execute_reply.started": "2021-08-12T10:24:43.184215Z"
    },
    "papermill": {
     "duration": 0.091708,
     "end_time": "2021-08-12T10:53:47.297100",
     "exception": false,
     "start_time": "2021-08-12T10:53:47.205392",
     "status": "completed"
    },
    "tags": []
   },
   "outputs": [
    {
     "data": {
      "text/html": [
       "<div>\n",
       "<style scoped>\n",
       "    .dataframe tbody tr th:only-of-type {\n",
       "        vertical-align: middle;\n",
       "    }\n",
       "\n",
       "    .dataframe tbody tr th {\n",
       "        vertical-align: top;\n",
       "    }\n",
       "\n",
       "    .dataframe thead th {\n",
       "        text-align: right;\n",
       "    }\n",
       "</style>\n",
       "<table border=\"1\" class=\"dataframe\">\n",
       "  <thead>\n",
       "    <tr style=\"text-align: right;\">\n",
       "      <th></th>\n",
       "      <th>PassengerId</th>\n",
       "      <th>Survived</th>\n",
       "      <th>Pclass</th>\n",
       "      <th>Age</th>\n",
       "      <th>SibSp</th>\n",
       "      <th>Parch</th>\n",
       "      <th>Fare</th>\n",
       "    </tr>\n",
       "  </thead>\n",
       "  <tbody>\n",
       "    <tr>\n",
       "      <th>count</th>\n",
       "      <td>891.000000</td>\n",
       "      <td>891.000000</td>\n",
       "      <td>891.000000</td>\n",
       "      <td>891.000000</td>\n",
       "      <td>891.000000</td>\n",
       "      <td>891.000000</td>\n",
       "      <td>891.000000</td>\n",
       "    </tr>\n",
       "    <tr>\n",
       "      <th>mean</th>\n",
       "      <td>446.000000</td>\n",
       "      <td>0.383838</td>\n",
       "      <td>2.308642</td>\n",
       "      <td>29.699118</td>\n",
       "      <td>0.523008</td>\n",
       "      <td>0.381594</td>\n",
       "      <td>32.204208</td>\n",
       "    </tr>\n",
       "    <tr>\n",
       "      <th>std</th>\n",
       "      <td>257.353842</td>\n",
       "      <td>0.486592</td>\n",
       "      <td>0.836071</td>\n",
       "      <td>13.002015</td>\n",
       "      <td>1.102743</td>\n",
       "      <td>0.806057</td>\n",
       "      <td>49.693429</td>\n",
       "    </tr>\n",
       "    <tr>\n",
       "      <th>min</th>\n",
       "      <td>1.000000</td>\n",
       "      <td>0.000000</td>\n",
       "      <td>1.000000</td>\n",
       "      <td>0.420000</td>\n",
       "      <td>0.000000</td>\n",
       "      <td>0.000000</td>\n",
       "      <td>0.000000</td>\n",
       "    </tr>\n",
       "    <tr>\n",
       "      <th>25%</th>\n",
       "      <td>223.500000</td>\n",
       "      <td>0.000000</td>\n",
       "      <td>2.000000</td>\n",
       "      <td>22.000000</td>\n",
       "      <td>0.000000</td>\n",
       "      <td>0.000000</td>\n",
       "      <td>7.910400</td>\n",
       "    </tr>\n",
       "    <tr>\n",
       "      <th>50%</th>\n",
       "      <td>446.000000</td>\n",
       "      <td>0.000000</td>\n",
       "      <td>3.000000</td>\n",
       "      <td>29.699118</td>\n",
       "      <td>0.000000</td>\n",
       "      <td>0.000000</td>\n",
       "      <td>14.454200</td>\n",
       "    </tr>\n",
       "    <tr>\n",
       "      <th>75%</th>\n",
       "      <td>668.500000</td>\n",
       "      <td>1.000000</td>\n",
       "      <td>3.000000</td>\n",
       "      <td>35.000000</td>\n",
       "      <td>1.000000</td>\n",
       "      <td>0.000000</td>\n",
       "      <td>31.000000</td>\n",
       "    </tr>\n",
       "    <tr>\n",
       "      <th>max</th>\n",
       "      <td>891.000000</td>\n",
       "      <td>1.000000</td>\n",
       "      <td>3.000000</td>\n",
       "      <td>80.000000</td>\n",
       "      <td>8.000000</td>\n",
       "      <td>6.000000</td>\n",
       "      <td>512.329200</td>\n",
       "    </tr>\n",
       "  </tbody>\n",
       "</table>\n",
       "</div>"
      ],
      "text/plain": [
       "       PassengerId    Survived      Pclass         Age       SibSp  \\\n",
       "count   891.000000  891.000000  891.000000  891.000000  891.000000   \n",
       "mean    446.000000    0.383838    2.308642   29.699118    0.523008   \n",
       "std     257.353842    0.486592    0.836071   13.002015    1.102743   \n",
       "min       1.000000    0.000000    1.000000    0.420000    0.000000   \n",
       "25%     223.500000    0.000000    2.000000   22.000000    0.000000   \n",
       "50%     446.000000    0.000000    3.000000   29.699118    0.000000   \n",
       "75%     668.500000    1.000000    3.000000   35.000000    1.000000   \n",
       "max     891.000000    1.000000    3.000000   80.000000    8.000000   \n",
       "\n",
       "            Parch        Fare  \n",
       "count  891.000000  891.000000  \n",
       "mean     0.381594   32.204208  \n",
       "std      0.806057   49.693429  \n",
       "min      0.000000    0.000000  \n",
       "25%      0.000000    7.910400  \n",
       "50%      0.000000   14.454200  \n",
       "75%      0.000000   31.000000  \n",
       "max      6.000000  512.329200  "
      ]
     },
     "execution_count": 9,
     "metadata": {},
     "output_type": "execute_result"
    }
   ],
   "source": [
    "traindf.isnull().sum()\n",
    "traindf['Age'].fillna(traindf['Age'].mean(), inplace= True)\n",
    "traindf.describe()"
   ]
  },
  {
   "cell_type": "code",
   "execution_count": 10,
   "id": "973803d1",
   "metadata": {
    "execution": {
     "iopub.execute_input": "2021-08-12T10:53:47.428264Z",
     "iopub.status.busy": "2021-08-12T10:53:47.427534Z",
     "iopub.status.idle": "2021-08-12T10:53:47.431771Z",
     "shell.execute_reply": "2021-08-12T10:53:47.432280Z",
     "shell.execute_reply.started": "2021-08-12T10:24:43.219519Z"
    },
    "papermill": {
     "duration": 0.076868,
     "end_time": "2021-08-12T10:53:47.432466",
     "exception": false,
     "start_time": "2021-08-12T10:53:47.355598",
     "status": "completed"
    },
    "tags": []
   },
   "outputs": [
    {
     "data": {
      "text/plain": [
       "male      577\n",
       "female    314\n",
       "Name: Sex, dtype: int64"
      ]
     },
     "execution_count": 10,
     "metadata": {},
     "output_type": "execute_result"
    }
   ],
   "source": [
    "traindf['Sex'].value_counts()"
   ]
  },
  {
   "cell_type": "markdown",
   "id": "7de12878",
   "metadata": {
    "papermill": {
     "duration": 0.053971,
     "end_time": "2021-08-12T10:53:47.540169",
     "exception": false,
     "start_time": "2021-08-12T10:53:47.486198",
     "status": "completed"
    },
    "tags": []
   },
   "source": []
  },
  {
   "cell_type": "markdown",
   "id": "00b3464e",
   "metadata": {
    "papermill": {
     "duration": 0.054349,
     "end_time": "2021-08-12T10:53:47.649024",
     "exception": false,
     "start_time": "2021-08-12T10:53:47.594675",
     "status": "completed"
    },
    "tags": []
   },
   "source": [
    "## Data preprocessing "
   ]
  },
  {
   "cell_type": "code",
   "execution_count": 11,
   "id": "c9a491ec",
   "metadata": {
    "execution": {
     "iopub.execute_input": "2021-08-12T10:53:47.762288Z",
     "iopub.status.busy": "2021-08-12T10:53:47.761592Z",
     "iopub.status.idle": "2021-08-12T10:53:47.774175Z",
     "shell.execute_reply": "2021-08-12T10:53:47.773516Z",
     "shell.execute_reply.started": "2021-08-12T10:24:43.228385Z"
    },
    "papermill": {
     "duration": 0.071518,
     "end_time": "2021-08-12T10:53:47.774326",
     "exception": false,
     "start_time": "2021-08-12T10:53:47.702808",
     "status": "completed"
    },
    "tags": []
   },
   "outputs": [
    {
     "data": {
      "text/html": [
       "<div>\n",
       "<style scoped>\n",
       "    .dataframe tbody tr th:only-of-type {\n",
       "        vertical-align: middle;\n",
       "    }\n",
       "\n",
       "    .dataframe tbody tr th {\n",
       "        vertical-align: top;\n",
       "    }\n",
       "\n",
       "    .dataframe thead th {\n",
       "        text-align: right;\n",
       "    }\n",
       "</style>\n",
       "<table border=\"1\" class=\"dataframe\">\n",
       "  <thead>\n",
       "    <tr style=\"text-align: right;\">\n",
       "      <th></th>\n",
       "      <th>Q</th>\n",
       "      <th>S</th>\n",
       "    </tr>\n",
       "  </thead>\n",
       "  <tbody>\n",
       "    <tr>\n",
       "      <th>0</th>\n",
       "      <td>0</td>\n",
       "      <td>1</td>\n",
       "    </tr>\n",
       "    <tr>\n",
       "      <th>1</th>\n",
       "      <td>0</td>\n",
       "      <td>0</td>\n",
       "    </tr>\n",
       "    <tr>\n",
       "      <th>2</th>\n",
       "      <td>0</td>\n",
       "      <td>1</td>\n",
       "    </tr>\n",
       "    <tr>\n",
       "      <th>3</th>\n",
       "      <td>0</td>\n",
       "      <td>1</td>\n",
       "    </tr>\n",
       "    <tr>\n",
       "      <th>4</th>\n",
       "      <td>0</td>\n",
       "      <td>1</td>\n",
       "    </tr>\n",
       "    <tr>\n",
       "      <th>...</th>\n",
       "      <td>...</td>\n",
       "      <td>...</td>\n",
       "    </tr>\n",
       "    <tr>\n",
       "      <th>886</th>\n",
       "      <td>0</td>\n",
       "      <td>1</td>\n",
       "    </tr>\n",
       "    <tr>\n",
       "      <th>887</th>\n",
       "      <td>0</td>\n",
       "      <td>1</td>\n",
       "    </tr>\n",
       "    <tr>\n",
       "      <th>888</th>\n",
       "      <td>0</td>\n",
       "      <td>1</td>\n",
       "    </tr>\n",
       "    <tr>\n",
       "      <th>889</th>\n",
       "      <td>0</td>\n",
       "      <td>0</td>\n",
       "    </tr>\n",
       "    <tr>\n",
       "      <th>890</th>\n",
       "      <td>1</td>\n",
       "      <td>0</td>\n",
       "    </tr>\n",
       "  </tbody>\n",
       "</table>\n",
       "<p>891 rows × 2 columns</p>\n",
       "</div>"
      ],
      "text/plain": [
       "     Q  S\n",
       "0    0  1\n",
       "1    0  0\n",
       "2    0  1\n",
       "3    0  1\n",
       "4    0  1\n",
       "..  .. ..\n",
       "886  0  1\n",
       "887  0  1\n",
       "888  0  1\n",
       "889  0  0\n",
       "890  1  0\n",
       "\n",
       "[891 rows x 2 columns]"
      ]
     },
     "execution_count": 11,
     "metadata": {},
     "output_type": "execute_result"
    }
   ],
   "source": [
    "traindf_embarked = pd.get_dummies(traindf['Embarked'], drop_first=True)\n",
    "traindf_embarked\n"
   ]
  },
  {
   "cell_type": "code",
   "execution_count": 12,
   "id": "2be3251d",
   "metadata": {
    "execution": {
     "iopub.execute_input": "2021-08-12T10:53:47.894364Z",
     "iopub.status.busy": "2021-08-12T10:53:47.888776Z",
     "iopub.status.idle": "2021-08-12T10:53:47.898479Z",
     "shell.execute_reply": "2021-08-12T10:53:47.899067Z",
     "shell.execute_reply.started": "2021-08-12T10:24:43.250451Z"
    },
    "papermill": {
     "duration": 0.071169,
     "end_time": "2021-08-12T10:53:47.899238",
     "exception": false,
     "start_time": "2021-08-12T10:53:47.828069",
     "status": "completed"
    },
    "tags": []
   },
   "outputs": [
    {
     "data": {
      "text/html": [
       "<div>\n",
       "<style scoped>\n",
       "    .dataframe tbody tr th:only-of-type {\n",
       "        vertical-align: middle;\n",
       "    }\n",
       "\n",
       "    .dataframe tbody tr th {\n",
       "        vertical-align: top;\n",
       "    }\n",
       "\n",
       "    .dataframe thead th {\n",
       "        text-align: right;\n",
       "    }\n",
       "</style>\n",
       "<table border=\"1\" class=\"dataframe\">\n",
       "  <thead>\n",
       "    <tr style=\"text-align: right;\">\n",
       "      <th></th>\n",
       "      <th>male</th>\n",
       "    </tr>\n",
       "  </thead>\n",
       "  <tbody>\n",
       "    <tr>\n",
       "      <th>0</th>\n",
       "      <td>1</td>\n",
       "    </tr>\n",
       "    <tr>\n",
       "      <th>1</th>\n",
       "      <td>0</td>\n",
       "    </tr>\n",
       "    <tr>\n",
       "      <th>2</th>\n",
       "      <td>0</td>\n",
       "    </tr>\n",
       "    <tr>\n",
       "      <th>3</th>\n",
       "      <td>0</td>\n",
       "    </tr>\n",
       "    <tr>\n",
       "      <th>4</th>\n",
       "      <td>1</td>\n",
       "    </tr>\n",
       "    <tr>\n",
       "      <th>...</th>\n",
       "      <td>...</td>\n",
       "    </tr>\n",
       "    <tr>\n",
       "      <th>886</th>\n",
       "      <td>1</td>\n",
       "    </tr>\n",
       "    <tr>\n",
       "      <th>887</th>\n",
       "      <td>0</td>\n",
       "    </tr>\n",
       "    <tr>\n",
       "      <th>888</th>\n",
       "      <td>0</td>\n",
       "    </tr>\n",
       "    <tr>\n",
       "      <th>889</th>\n",
       "      <td>1</td>\n",
       "    </tr>\n",
       "    <tr>\n",
       "      <th>890</th>\n",
       "      <td>1</td>\n",
       "    </tr>\n",
       "  </tbody>\n",
       "</table>\n",
       "<p>891 rows × 1 columns</p>\n",
       "</div>"
      ],
      "text/plain": [
       "     male\n",
       "0       1\n",
       "1       0\n",
       "2       0\n",
       "3       0\n",
       "4       1\n",
       "..    ...\n",
       "886     1\n",
       "887     0\n",
       "888     0\n",
       "889     1\n",
       "890     1\n",
       "\n",
       "[891 rows x 1 columns]"
      ]
     },
     "execution_count": 12,
     "metadata": {},
     "output_type": "execute_result"
    }
   ],
   "source": [
    "traindf_sex = pd.get_dummies(traindf['Sex'], drop_first=True)\n",
    "traindf_sex"
   ]
  },
  {
   "cell_type": "code",
   "execution_count": 13,
   "id": "e30fe3d0",
   "metadata": {
    "execution": {
     "iopub.execute_input": "2021-08-12T10:53:48.017246Z",
     "iopub.status.busy": "2021-08-12T10:53:48.016549Z",
     "iopub.status.idle": "2021-08-12T10:53:48.042989Z",
     "shell.execute_reply": "2021-08-12T10:53:48.043446Z",
     "shell.execute_reply.started": "2021-08-12T10:24:43.271684Z"
    },
    "papermill": {
     "duration": 0.090118,
     "end_time": "2021-08-12T10:53:48.043617",
     "exception": false,
     "start_time": "2021-08-12T10:53:47.953499",
     "status": "completed"
    },
    "tags": []
   },
   "outputs": [
    {
     "data": {
      "text/html": [
       "<div>\n",
       "<style scoped>\n",
       "    .dataframe tbody tr th:only-of-type {\n",
       "        vertical-align: middle;\n",
       "    }\n",
       "\n",
       "    .dataframe tbody tr th {\n",
       "        vertical-align: top;\n",
       "    }\n",
       "\n",
       "    .dataframe thead th {\n",
       "        text-align: right;\n",
       "    }\n",
       "</style>\n",
       "<table border=\"1\" class=\"dataframe\">\n",
       "  <thead>\n",
       "    <tr style=\"text-align: right;\">\n",
       "      <th></th>\n",
       "      <th>PassengerId</th>\n",
       "      <th>Survived</th>\n",
       "      <th>Pclass</th>\n",
       "      <th>Name</th>\n",
       "      <th>Sex</th>\n",
       "      <th>Age</th>\n",
       "      <th>SibSp</th>\n",
       "      <th>Parch</th>\n",
       "      <th>Ticket</th>\n",
       "      <th>Fare</th>\n",
       "      <th>Cabin</th>\n",
       "      <th>Embarked</th>\n",
       "      <th>male</th>\n",
       "      <th>Q</th>\n",
       "      <th>S</th>\n",
       "    </tr>\n",
       "  </thead>\n",
       "  <tbody>\n",
       "    <tr>\n",
       "      <th>0</th>\n",
       "      <td>1</td>\n",
       "      <td>0</td>\n",
       "      <td>3</td>\n",
       "      <td>Braund, Mr. Owen Harris</td>\n",
       "      <td>male</td>\n",
       "      <td>22.000000</td>\n",
       "      <td>1</td>\n",
       "      <td>0</td>\n",
       "      <td>A/5 21171</td>\n",
       "      <td>7.2500</td>\n",
       "      <td>NaN</td>\n",
       "      <td>S</td>\n",
       "      <td>1</td>\n",
       "      <td>0</td>\n",
       "      <td>1</td>\n",
       "    </tr>\n",
       "    <tr>\n",
       "      <th>1</th>\n",
       "      <td>2</td>\n",
       "      <td>1</td>\n",
       "      <td>1</td>\n",
       "      <td>Cumings, Mrs. John Bradley (Florence Briggs Th...</td>\n",
       "      <td>female</td>\n",
       "      <td>38.000000</td>\n",
       "      <td>1</td>\n",
       "      <td>0</td>\n",
       "      <td>PC 17599</td>\n",
       "      <td>71.2833</td>\n",
       "      <td>C85</td>\n",
       "      <td>C</td>\n",
       "      <td>0</td>\n",
       "      <td>0</td>\n",
       "      <td>0</td>\n",
       "    </tr>\n",
       "    <tr>\n",
       "      <th>2</th>\n",
       "      <td>3</td>\n",
       "      <td>1</td>\n",
       "      <td>3</td>\n",
       "      <td>Heikkinen, Miss. Laina</td>\n",
       "      <td>female</td>\n",
       "      <td>26.000000</td>\n",
       "      <td>0</td>\n",
       "      <td>0</td>\n",
       "      <td>STON/O2. 3101282</td>\n",
       "      <td>7.9250</td>\n",
       "      <td>NaN</td>\n",
       "      <td>S</td>\n",
       "      <td>0</td>\n",
       "      <td>0</td>\n",
       "      <td>1</td>\n",
       "    </tr>\n",
       "    <tr>\n",
       "      <th>3</th>\n",
       "      <td>4</td>\n",
       "      <td>1</td>\n",
       "      <td>1</td>\n",
       "      <td>Futrelle, Mrs. Jacques Heath (Lily May Peel)</td>\n",
       "      <td>female</td>\n",
       "      <td>35.000000</td>\n",
       "      <td>1</td>\n",
       "      <td>0</td>\n",
       "      <td>113803</td>\n",
       "      <td>53.1000</td>\n",
       "      <td>C123</td>\n",
       "      <td>S</td>\n",
       "      <td>0</td>\n",
       "      <td>0</td>\n",
       "      <td>1</td>\n",
       "    </tr>\n",
       "    <tr>\n",
       "      <th>4</th>\n",
       "      <td>5</td>\n",
       "      <td>0</td>\n",
       "      <td>3</td>\n",
       "      <td>Allen, Mr. William Henry</td>\n",
       "      <td>male</td>\n",
       "      <td>35.000000</td>\n",
       "      <td>0</td>\n",
       "      <td>0</td>\n",
       "      <td>373450</td>\n",
       "      <td>8.0500</td>\n",
       "      <td>NaN</td>\n",
       "      <td>S</td>\n",
       "      <td>1</td>\n",
       "      <td>0</td>\n",
       "      <td>1</td>\n",
       "    </tr>\n",
       "    <tr>\n",
       "      <th>...</th>\n",
       "      <td>...</td>\n",
       "      <td>...</td>\n",
       "      <td>...</td>\n",
       "      <td>...</td>\n",
       "      <td>...</td>\n",
       "      <td>...</td>\n",
       "      <td>...</td>\n",
       "      <td>...</td>\n",
       "      <td>...</td>\n",
       "      <td>...</td>\n",
       "      <td>...</td>\n",
       "      <td>...</td>\n",
       "      <td>...</td>\n",
       "      <td>...</td>\n",
       "      <td>...</td>\n",
       "    </tr>\n",
       "    <tr>\n",
       "      <th>886</th>\n",
       "      <td>887</td>\n",
       "      <td>0</td>\n",
       "      <td>2</td>\n",
       "      <td>Montvila, Rev. Juozas</td>\n",
       "      <td>male</td>\n",
       "      <td>27.000000</td>\n",
       "      <td>0</td>\n",
       "      <td>0</td>\n",
       "      <td>211536</td>\n",
       "      <td>13.0000</td>\n",
       "      <td>NaN</td>\n",
       "      <td>S</td>\n",
       "      <td>1</td>\n",
       "      <td>0</td>\n",
       "      <td>1</td>\n",
       "    </tr>\n",
       "    <tr>\n",
       "      <th>887</th>\n",
       "      <td>888</td>\n",
       "      <td>1</td>\n",
       "      <td>1</td>\n",
       "      <td>Graham, Miss. Margaret Edith</td>\n",
       "      <td>female</td>\n",
       "      <td>19.000000</td>\n",
       "      <td>0</td>\n",
       "      <td>0</td>\n",
       "      <td>112053</td>\n",
       "      <td>30.0000</td>\n",
       "      <td>B42</td>\n",
       "      <td>S</td>\n",
       "      <td>0</td>\n",
       "      <td>0</td>\n",
       "      <td>1</td>\n",
       "    </tr>\n",
       "    <tr>\n",
       "      <th>888</th>\n",
       "      <td>889</td>\n",
       "      <td>0</td>\n",
       "      <td>3</td>\n",
       "      <td>Johnston, Miss. Catherine Helen \"Carrie\"</td>\n",
       "      <td>female</td>\n",
       "      <td>29.699118</td>\n",
       "      <td>1</td>\n",
       "      <td>2</td>\n",
       "      <td>W./C. 6607</td>\n",
       "      <td>23.4500</td>\n",
       "      <td>NaN</td>\n",
       "      <td>S</td>\n",
       "      <td>0</td>\n",
       "      <td>0</td>\n",
       "      <td>1</td>\n",
       "    </tr>\n",
       "    <tr>\n",
       "      <th>889</th>\n",
       "      <td>890</td>\n",
       "      <td>1</td>\n",
       "      <td>1</td>\n",
       "      <td>Behr, Mr. Karl Howell</td>\n",
       "      <td>male</td>\n",
       "      <td>26.000000</td>\n",
       "      <td>0</td>\n",
       "      <td>0</td>\n",
       "      <td>111369</td>\n",
       "      <td>30.0000</td>\n",
       "      <td>C148</td>\n",
       "      <td>C</td>\n",
       "      <td>1</td>\n",
       "      <td>0</td>\n",
       "      <td>0</td>\n",
       "    </tr>\n",
       "    <tr>\n",
       "      <th>890</th>\n",
       "      <td>891</td>\n",
       "      <td>0</td>\n",
       "      <td>3</td>\n",
       "      <td>Dooley, Mr. Patrick</td>\n",
       "      <td>male</td>\n",
       "      <td>32.000000</td>\n",
       "      <td>0</td>\n",
       "      <td>0</td>\n",
       "      <td>370376</td>\n",
       "      <td>7.7500</td>\n",
       "      <td>NaN</td>\n",
       "      <td>Q</td>\n",
       "      <td>1</td>\n",
       "      <td>1</td>\n",
       "      <td>0</td>\n",
       "    </tr>\n",
       "  </tbody>\n",
       "</table>\n",
       "<p>891 rows × 15 columns</p>\n",
       "</div>"
      ],
      "text/plain": [
       "     PassengerId  Survived  Pclass  \\\n",
       "0              1         0       3   \n",
       "1              2         1       1   \n",
       "2              3         1       3   \n",
       "3              4         1       1   \n",
       "4              5         0       3   \n",
       "..           ...       ...     ...   \n",
       "886          887         0       2   \n",
       "887          888         1       1   \n",
       "888          889         0       3   \n",
       "889          890         1       1   \n",
       "890          891         0       3   \n",
       "\n",
       "                                                  Name     Sex        Age  \\\n",
       "0                              Braund, Mr. Owen Harris    male  22.000000   \n",
       "1    Cumings, Mrs. John Bradley (Florence Briggs Th...  female  38.000000   \n",
       "2                               Heikkinen, Miss. Laina  female  26.000000   \n",
       "3         Futrelle, Mrs. Jacques Heath (Lily May Peel)  female  35.000000   \n",
       "4                             Allen, Mr. William Henry    male  35.000000   \n",
       "..                                                 ...     ...        ...   \n",
       "886                              Montvila, Rev. Juozas    male  27.000000   \n",
       "887                       Graham, Miss. Margaret Edith  female  19.000000   \n",
       "888           Johnston, Miss. Catherine Helen \"Carrie\"  female  29.699118   \n",
       "889                              Behr, Mr. Karl Howell    male  26.000000   \n",
       "890                                Dooley, Mr. Patrick    male  32.000000   \n",
       "\n",
       "     SibSp  Parch            Ticket     Fare Cabin Embarked  male  Q  S  \n",
       "0        1      0         A/5 21171   7.2500   NaN        S     1  0  1  \n",
       "1        1      0          PC 17599  71.2833   C85        C     0  0  0  \n",
       "2        0      0  STON/O2. 3101282   7.9250   NaN        S     0  0  1  \n",
       "3        1      0            113803  53.1000  C123        S     0  0  1  \n",
       "4        0      0            373450   8.0500   NaN        S     1  0  1  \n",
       "..     ...    ...               ...      ...   ...      ...   ... .. ..  \n",
       "886      0      0            211536  13.0000   NaN        S     1  0  1  \n",
       "887      0      0            112053  30.0000   B42        S     0  0  1  \n",
       "888      1      2        W./C. 6607  23.4500   NaN        S     0  0  1  \n",
       "889      0      0            111369  30.0000  C148        C     1  0  0  \n",
       "890      0      0            370376   7.7500   NaN        Q     1  1  0  \n",
       "\n",
       "[891 rows x 15 columns]"
      ]
     },
     "execution_count": 13,
     "metadata": {},
     "output_type": "execute_result"
    }
   ],
   "source": [
    "train_data = pd.concat([traindf, traindf_sex, traindf_embarked], axis=1)\n",
    "train_data"
   ]
  },
  {
   "cell_type": "code",
   "execution_count": 14,
   "id": "6d68dfd4",
   "metadata": {
    "execution": {
     "iopub.execute_input": "2021-08-12T10:53:48.176094Z",
     "iopub.status.busy": "2021-08-12T10:53:48.175462Z",
     "iopub.status.idle": "2021-08-12T10:53:48.180037Z",
     "shell.execute_reply": "2021-08-12T10:53:48.179511Z",
     "shell.execute_reply.started": "2021-08-12T10:24:43.307423Z"
    },
    "papermill": {
     "duration": 0.081312,
     "end_time": "2021-08-12T10:53:48.180171",
     "exception": false,
     "start_time": "2021-08-12T10:53:48.098859",
     "status": "completed"
    },
    "tags": []
   },
   "outputs": [
    {
     "data": {
      "text/html": [
       "<div>\n",
       "<style scoped>\n",
       "    .dataframe tbody tr th:only-of-type {\n",
       "        vertical-align: middle;\n",
       "    }\n",
       "\n",
       "    .dataframe tbody tr th {\n",
       "        vertical-align: top;\n",
       "    }\n",
       "\n",
       "    .dataframe thead th {\n",
       "        text-align: right;\n",
       "    }\n",
       "</style>\n",
       "<table border=\"1\" class=\"dataframe\">\n",
       "  <thead>\n",
       "    <tr style=\"text-align: right;\">\n",
       "      <th></th>\n",
       "      <th>Survived</th>\n",
       "      <th>Pclass</th>\n",
       "      <th>Age</th>\n",
       "      <th>SibSp</th>\n",
       "      <th>Parch</th>\n",
       "      <th>Fare</th>\n",
       "      <th>male</th>\n",
       "      <th>Q</th>\n",
       "      <th>S</th>\n",
       "    </tr>\n",
       "  </thead>\n",
       "  <tbody>\n",
       "    <tr>\n",
       "      <th>0</th>\n",
       "      <td>0</td>\n",
       "      <td>3</td>\n",
       "      <td>22.000000</td>\n",
       "      <td>1</td>\n",
       "      <td>0</td>\n",
       "      <td>7.2500</td>\n",
       "      <td>1</td>\n",
       "      <td>0</td>\n",
       "      <td>1</td>\n",
       "    </tr>\n",
       "    <tr>\n",
       "      <th>1</th>\n",
       "      <td>1</td>\n",
       "      <td>1</td>\n",
       "      <td>38.000000</td>\n",
       "      <td>1</td>\n",
       "      <td>0</td>\n",
       "      <td>71.2833</td>\n",
       "      <td>0</td>\n",
       "      <td>0</td>\n",
       "      <td>0</td>\n",
       "    </tr>\n",
       "    <tr>\n",
       "      <th>2</th>\n",
       "      <td>1</td>\n",
       "      <td>3</td>\n",
       "      <td>26.000000</td>\n",
       "      <td>0</td>\n",
       "      <td>0</td>\n",
       "      <td>7.9250</td>\n",
       "      <td>0</td>\n",
       "      <td>0</td>\n",
       "      <td>1</td>\n",
       "    </tr>\n",
       "    <tr>\n",
       "      <th>3</th>\n",
       "      <td>1</td>\n",
       "      <td>1</td>\n",
       "      <td>35.000000</td>\n",
       "      <td>1</td>\n",
       "      <td>0</td>\n",
       "      <td>53.1000</td>\n",
       "      <td>0</td>\n",
       "      <td>0</td>\n",
       "      <td>1</td>\n",
       "    </tr>\n",
       "    <tr>\n",
       "      <th>4</th>\n",
       "      <td>0</td>\n",
       "      <td>3</td>\n",
       "      <td>35.000000</td>\n",
       "      <td>0</td>\n",
       "      <td>0</td>\n",
       "      <td>8.0500</td>\n",
       "      <td>1</td>\n",
       "      <td>0</td>\n",
       "      <td>1</td>\n",
       "    </tr>\n",
       "    <tr>\n",
       "      <th>...</th>\n",
       "      <td>...</td>\n",
       "      <td>...</td>\n",
       "      <td>...</td>\n",
       "      <td>...</td>\n",
       "      <td>...</td>\n",
       "      <td>...</td>\n",
       "      <td>...</td>\n",
       "      <td>...</td>\n",
       "      <td>...</td>\n",
       "    </tr>\n",
       "    <tr>\n",
       "      <th>886</th>\n",
       "      <td>0</td>\n",
       "      <td>2</td>\n",
       "      <td>27.000000</td>\n",
       "      <td>0</td>\n",
       "      <td>0</td>\n",
       "      <td>13.0000</td>\n",
       "      <td>1</td>\n",
       "      <td>0</td>\n",
       "      <td>1</td>\n",
       "    </tr>\n",
       "    <tr>\n",
       "      <th>887</th>\n",
       "      <td>1</td>\n",
       "      <td>1</td>\n",
       "      <td>19.000000</td>\n",
       "      <td>0</td>\n",
       "      <td>0</td>\n",
       "      <td>30.0000</td>\n",
       "      <td>0</td>\n",
       "      <td>0</td>\n",
       "      <td>1</td>\n",
       "    </tr>\n",
       "    <tr>\n",
       "      <th>888</th>\n",
       "      <td>0</td>\n",
       "      <td>3</td>\n",
       "      <td>29.699118</td>\n",
       "      <td>1</td>\n",
       "      <td>2</td>\n",
       "      <td>23.4500</td>\n",
       "      <td>0</td>\n",
       "      <td>0</td>\n",
       "      <td>1</td>\n",
       "    </tr>\n",
       "    <tr>\n",
       "      <th>889</th>\n",
       "      <td>1</td>\n",
       "      <td>1</td>\n",
       "      <td>26.000000</td>\n",
       "      <td>0</td>\n",
       "      <td>0</td>\n",
       "      <td>30.0000</td>\n",
       "      <td>1</td>\n",
       "      <td>0</td>\n",
       "      <td>0</td>\n",
       "    </tr>\n",
       "    <tr>\n",
       "      <th>890</th>\n",
       "      <td>0</td>\n",
       "      <td>3</td>\n",
       "      <td>32.000000</td>\n",
       "      <td>0</td>\n",
       "      <td>0</td>\n",
       "      <td>7.7500</td>\n",
       "      <td>1</td>\n",
       "      <td>1</td>\n",
       "      <td>0</td>\n",
       "    </tr>\n",
       "  </tbody>\n",
       "</table>\n",
       "<p>891 rows × 9 columns</p>\n",
       "</div>"
      ],
      "text/plain": [
       "     Survived  Pclass        Age  SibSp  Parch     Fare  male  Q  S\n",
       "0           0       3  22.000000      1      0   7.2500     1  0  1\n",
       "1           1       1  38.000000      1      0  71.2833     0  0  0\n",
       "2           1       3  26.000000      0      0   7.9250     0  0  1\n",
       "3           1       1  35.000000      1      0  53.1000     0  0  1\n",
       "4           0       3  35.000000      0      0   8.0500     1  0  1\n",
       "..        ...     ...        ...    ...    ...      ...   ... .. ..\n",
       "886         0       2  27.000000      0      0  13.0000     1  0  1\n",
       "887         1       1  19.000000      0      0  30.0000     0  0  1\n",
       "888         0       3  29.699118      1      2  23.4500     0  0  1\n",
       "889         1       1  26.000000      0      0  30.0000     1  0  0\n",
       "890         0       3  32.000000      0      0   7.7500     1  1  0\n",
       "\n",
       "[891 rows x 9 columns]"
      ]
     },
     "execution_count": 14,
     "metadata": {},
     "output_type": "execute_result"
    }
   ],
   "source": [
    "train_data.drop([\"PassengerId\",\"Sex\", \"Embarked\", \"Ticket\", \"Cabin\", \"Name\"], inplace=True, axis=1)\n",
    "train_data"
   ]
  },
  {
   "cell_type": "markdown",
   "id": "336a1453",
   "metadata": {
    "execution": {
     "iopub.execute_input": "2021-07-25T07:53:44.887335Z",
     "iopub.status.busy": "2021-07-25T07:53:44.886888Z",
     "iopub.status.idle": "2021-07-25T07:53:44.894562Z",
     "shell.execute_reply": "2021-07-25T07:53:44.893187Z",
     "shell.execute_reply.started": "2021-07-25T07:53:44.887281Z"
    },
    "papermill": {
     "duration": 0.054768,
     "end_time": "2021-08-12T10:53:48.290309",
     "exception": false,
     "start_time": "2021-08-12T10:53:48.235541",
     "status": "completed"
    },
    "tags": []
   },
   "source": [
    "## Splitting data"
   ]
  },
  {
   "cell_type": "code",
   "execution_count": 15,
   "id": "38b790af",
   "metadata": {
    "execution": {
     "iopub.execute_input": "2021-08-12T10:53:48.406022Z",
     "iopub.status.busy": "2021-08-12T10:53:48.405321Z",
     "iopub.status.idle": "2021-08-12T10:53:48.576307Z",
     "shell.execute_reply": "2021-08-12T10:53:48.575642Z",
     "shell.execute_reply.started": "2021-08-12T10:24:43.330442Z"
    },
    "papermill": {
     "duration": 0.230397,
     "end_time": "2021-08-12T10:53:48.576450",
     "exception": false,
     "start_time": "2021-08-12T10:53:48.346053",
     "status": "completed"
    },
    "tags": []
   },
   "outputs": [],
   "source": [
    "from sklearn.model_selection import train_test_split\n"
   ]
  },
  {
   "cell_type": "code",
   "execution_count": 16,
   "id": "0b428041",
   "metadata": {
    "execution": {
     "iopub.execute_input": "2021-08-12T10:53:48.695599Z",
     "iopub.status.busy": "2021-08-12T10:53:48.693997Z",
     "iopub.status.idle": "2021-08-12T10:53:48.698854Z",
     "shell.execute_reply": "2021-08-12T10:53:48.698250Z",
     "shell.execute_reply.started": "2021-08-12T10:24:43.336663Z"
    },
    "papermill": {
     "duration": 0.066501,
     "end_time": "2021-08-12T10:53:48.698989",
     "exception": false,
     "start_time": "2021-08-12T10:53:48.632488",
     "status": "completed"
    },
    "tags": []
   },
   "outputs": [],
   "source": [
    "x = train_data.drop('Survived', axis = 1)\n",
    "y = train_data['Survived']\n",
    "\n",
    "x_train, x_test, y_train, y_test = train_test_split(x, y, test_size=0.2)\n",
    "\n"
   ]
  },
  {
   "cell_type": "code",
   "execution_count": 17,
   "id": "b2312851",
   "metadata": {
    "execution": {
     "iopub.execute_input": "2021-08-12T10:53:48.815531Z",
     "iopub.status.busy": "2021-08-12T10:53:48.814874Z",
     "iopub.status.idle": "2021-08-12T10:53:48.817651Z",
     "shell.execute_reply": "2021-08-12T10:53:48.818194Z",
     "shell.execute_reply.started": "2021-08-12T10:24:43.353611Z"
    },
    "papermill": {
     "duration": 0.063757,
     "end_time": "2021-08-12T10:53:48.818358",
     "exception": false,
     "start_time": "2021-08-12T10:53:48.754601",
     "status": "completed"
    },
    "tags": []
   },
   "outputs": [
    {
     "data": {
      "text/plain": [
       "((712, 8), (179, 8))"
      ]
     },
     "execution_count": 17,
     "metadata": {},
     "output_type": "execute_result"
    }
   ],
   "source": [
    "x_train.shape, x_test.shape"
   ]
  },
  {
   "cell_type": "markdown",
   "id": "f1e14e13",
   "metadata": {
    "execution": {
     "iopub.execute_input": "2021-07-25T08:02:35.170456Z",
     "iopub.status.busy": "2021-07-25T08:02:35.170065Z",
     "iopub.status.idle": "2021-07-25T08:02:35.1914Z",
     "shell.execute_reply": "2021-07-25T08:02:35.190659Z",
     "shell.execute_reply.started": "2021-07-25T08:02:35.170426Z"
    },
    "papermill": {
     "duration": 0.056729,
     "end_time": "2021-08-12T10:53:48.931481",
     "exception": false,
     "start_time": "2021-08-12T10:53:48.874752",
     "status": "completed"
    },
    "tags": []
   },
   "source": [
    "## Fitting and scoring"
   ]
  },
  {
   "cell_type": "code",
   "execution_count": 18,
   "id": "04406109",
   "metadata": {
    "execution": {
     "iopub.execute_input": "2021-08-12T10:53:49.047291Z",
     "iopub.status.busy": "2021-08-12T10:53:49.046574Z",
     "iopub.status.idle": "2021-08-12T10:53:49.343580Z",
     "shell.execute_reply": "2021-08-12T10:53:49.344139Z",
     "shell.execute_reply.started": "2021-08-12T10:24:43.368068Z"
    },
    "papermill": {
     "duration": 0.356763,
     "end_time": "2021-08-12T10:53:49.344365",
     "exception": false,
     "start_time": "2021-08-12T10:53:48.987602",
     "status": "completed"
    },
    "tags": []
   },
   "outputs": [],
   "source": [
    "from sklearn.linear_model import LogisticRegression\n",
    "from sklearn.ensemble import RandomForestClassifier\n",
    "from sklearn.neighbors import KNeighborsClassifier"
   ]
  },
  {
   "cell_type": "markdown",
   "id": "beb6cf91",
   "metadata": {
    "papermill": {
     "duration": 0.055972,
     "end_time": "2021-08-12T10:53:49.456757",
     "exception": false,
     "start_time": "2021-08-12T10:53:49.400785",
     "status": "completed"
    },
    "tags": []
   },
   "source": [
    "## Random Forest Classifier"
   ]
  },
  {
   "cell_type": "code",
   "execution_count": 19,
   "id": "4485aabb",
   "metadata": {
    "execution": {
     "iopub.execute_input": "2021-08-12T10:53:49.572536Z",
     "iopub.status.busy": "2021-08-12T10:53:49.571874Z",
     "iopub.status.idle": "2021-08-12T10:53:49.814377Z",
     "shell.execute_reply": "2021-08-12T10:53:49.814896Z",
     "shell.execute_reply.started": "2021-08-12T10:24:43.379153Z"
    },
    "papermill": {
     "duration": 0.302269,
     "end_time": "2021-08-12T10:53:49.815071",
     "exception": false,
     "start_time": "2021-08-12T10:53:49.512802",
     "status": "completed"
    },
    "tags": []
   },
   "outputs": [
    {
     "name": "stdout",
     "output_type": "stream",
     "text": [
      "Accuracy :0.8324022346368715\n"
     ]
    }
   ],
   "source": [
    "\n",
    "rff = RandomForestClassifier()\n",
    "rff.fit(x_train, y_train)\n",
    "rff_score = rff.score(x_test, y_test)   \n",
    "print(f'Accuracy :{rff_score}')"
   ]
  },
  {
   "cell_type": "markdown",
   "id": "7f6567c6",
   "metadata": {
    "execution": {
     "iopub.execute_input": "2021-07-25T08:20:55.990225Z",
     "iopub.status.busy": "2021-07-25T08:20:55.987871Z",
     "iopub.status.idle": "2021-07-25T08:20:56.06933Z",
     "shell.execute_reply": "2021-07-25T08:20:56.067301Z",
     "shell.execute_reply.started": "2021-07-25T08:20:55.990147Z"
    },
    "papermill": {
     "duration": 0.057049,
     "end_time": "2021-08-12T10:53:49.928597",
     "exception": false,
     "start_time": "2021-08-12T10:53:49.871548",
     "status": "completed"
    },
    "tags": []
   },
   "source": [
    "## KNeighbours Classifier"
   ]
  },
  {
   "cell_type": "code",
   "execution_count": 20,
   "id": "79eb613c",
   "metadata": {
    "execution": {
     "iopub.execute_input": "2021-08-12T10:53:50.045993Z",
     "iopub.status.busy": "2021-08-12T10:53:50.045257Z",
     "iopub.status.idle": "2021-08-12T10:53:50.065244Z",
     "shell.execute_reply": "2021-08-12T10:53:50.066218Z",
     "shell.execute_reply.started": "2021-08-12T10:24:43.635661Z"
    },
    "papermill": {
     "duration": 0.08144,
     "end_time": "2021-08-12T10:53:50.066489",
     "exception": false,
     "start_time": "2021-08-12T10:53:49.985049",
     "status": "completed"
    },
    "tags": []
   },
   "outputs": [
    {
     "name": "stdout",
     "output_type": "stream",
     "text": [
      "Accuracy: 0.7039106145251397\n"
     ]
    }
   ],
   "source": [
    "KNN = KNeighborsClassifier()\n",
    "KNN.fit(x_train, y_train)\n",
    "KNN_score = KNN.score(x_test, y_test)\n",
    "print(f'Accuracy: {KNN_score}')\n"
   ]
  },
  {
   "cell_type": "markdown",
   "id": "9b57b316",
   "metadata": {
    "execution": {
     "iopub.execute_input": "2021-07-25T08:31:49.662643Z",
     "iopub.status.busy": "2021-07-25T08:31:49.662187Z",
     "iopub.status.idle": "2021-07-25T08:31:49.742867Z",
     "shell.execute_reply": "2021-07-25T08:31:49.739913Z",
     "shell.execute_reply.started": "2021-07-25T08:31:49.662605Z"
    },
    "papermill": {
     "duration": 0.056572,
     "end_time": "2021-08-12T10:53:50.181358",
     "exception": false,
     "start_time": "2021-08-12T10:53:50.124786",
     "status": "completed"
    },
    "tags": []
   },
   "source": [
    "## Logistic Regression "
   ]
  },
  {
   "cell_type": "code",
   "execution_count": null,
   "id": "c05aab0b",
   "metadata": {
    "papermill": {
     "duration": 0.056537,
     "end_time": "2021-08-12T10:53:50.294787",
     "exception": false,
     "start_time": "2021-08-12T10:53:50.238250",
     "status": "completed"
    },
    "tags": []
   },
   "outputs": [],
   "source": []
  },
  {
   "cell_type": "markdown",
   "id": "7c08671f",
   "metadata": {
    "papermill": {
     "duration": 0.056368,
     "end_time": "2021-08-12T10:53:50.408329",
     "exception": false,
     "start_time": "2021-08-12T10:53:50.351961",
     "status": "completed"
    },
    "tags": []
   },
   "source": [
    "## Alt method\n"
   ]
  },
  {
   "cell_type": "code",
   "execution_count": 21,
   "id": "6ddc0192",
   "metadata": {
    "execution": {
     "iopub.execute_input": "2021-08-12T10:53:50.525269Z",
     "iopub.status.busy": "2021-08-12T10:53:50.524592Z",
     "iopub.status.idle": "2021-08-12T10:53:50.530054Z",
     "shell.execute_reply": "2021-08-12T10:53:50.530541Z",
     "shell.execute_reply.started": "2021-08-12T10:24:43.656847Z"
    },
    "papermill": {
     "duration": 0.065455,
     "end_time": "2021-08-12T10:53:50.530771",
     "exception": false,
     "start_time": "2021-08-12T10:53:50.465316",
     "status": "completed"
    },
    "tags": []
   },
   "outputs": [],
   "source": [
    "models = {\"kn\": KNeighborsClassifier(),\n",
    "          \"linear_model\": LogisticRegression(solver='liblinear'),\n",
    "          \"rfc\":RandomForestClassifier()\n",
    "}\n",
    "def fit_and_score(models, x_train, x_test, y_train, y_test):\n",
    "\n",
    "    model_scores = {}\n",
    "    for name, model in models.items():\n",
    "        \n",
    "        model.fit(x_train, y_train)\n",
    "        \n",
    "        model_scores[name] = model.score(x_test, y_test)\n",
    "    return model_scores"
   ]
  },
  {
   "cell_type": "code",
   "execution_count": 22,
   "id": "93f9b498",
   "metadata": {
    "execution": {
     "iopub.execute_input": "2021-08-12T10:53:50.649379Z",
     "iopub.status.busy": "2021-08-12T10:53:50.648703Z",
     "iopub.status.idle": "2021-08-12T10:53:51.042160Z",
     "shell.execute_reply": "2021-08-12T10:53:51.041437Z",
     "shell.execute_reply.started": "2021-08-12T10:24:43.665859Z"
    },
    "papermill": {
     "duration": 0.453924,
     "end_time": "2021-08-12T10:53:51.042310",
     "exception": false,
     "start_time": "2021-08-12T10:53:50.588386",
     "status": "completed"
    },
    "tags": []
   },
   "outputs": [
    {
     "data": {
      "text/plain": [
       "{'kn': 0.7039106145251397,\n",
       " 'linear_model': 0.8100558659217877,\n",
       " 'rfc': 0.8268156424581006}"
      ]
     },
     "execution_count": 22,
     "metadata": {},
     "output_type": "execute_result"
    }
   ],
   "source": [
    "model_scores = fit_and_score(models=models,\n",
    "                             x_train=x_train,\n",
    "                             x_test=x_test,\n",
    "                             y_train=y_train,\n",
    "                             y_test=y_test)\n",
    "model_scores"
   ]
  },
  {
   "cell_type": "markdown",
   "id": "d9572814",
   "metadata": {
    "papermill": {
     "duration": 0.057004,
     "end_time": "2021-08-12T10:53:51.156953",
     "exception": false,
     "start_time": "2021-08-12T10:53:51.099949",
     "status": "completed"
    },
    "tags": []
   },
   "source": [
    "## Model comparison"
   ]
  },
  {
   "cell_type": "code",
   "execution_count": 23,
   "id": "258f896d",
   "metadata": {
    "execution": {
     "iopub.execute_input": "2021-08-12T10:53:51.278309Z",
     "iopub.status.busy": "2021-08-12T10:53:51.277567Z",
     "iopub.status.idle": "2021-08-12T10:53:51.482169Z",
     "shell.execute_reply": "2021-08-12T10:53:51.481463Z",
     "shell.execute_reply.started": "2021-08-12T10:24:43.959508Z"
    },
    "papermill": {
     "duration": 0.267987,
     "end_time": "2021-08-12T10:53:51.482313",
     "exception": false,
     "start_time": "2021-08-12T10:53:51.214326",
     "status": "completed"
    },
    "tags": []
   },
   "outputs": [
    {
     "data": {
      "text/plain": [
       "<AxesSubplot:>"
      ]
     },
     "execution_count": 23,
     "metadata": {},
     "output_type": "execute_result"
    },
    {
     "data": {
      "image/png": "[encoded data removed]",
      "text/plain": [
       "<Figure size 640x480 with 1 Axes>"
      ]
     },
     "metadata": {},
     "output_type": "display_data"
    }
   ],
   "source": [
    "model_compare = pd.DataFrame(data=model_scores, index=['accuracy score'])\n",
    "model_compare.T.plot(kind='bar')"
   ]
  },
  {
   "cell_type": "code",
   "execution_count": 24,
   "id": "32166738",
   "metadata": {
    "execution": {
     "iopub.execute_input": "2021-08-12T10:53:51.604316Z",
     "iopub.status.busy": "2021-08-12T10:53:51.603599Z",
     "iopub.status.idle": "2021-08-12T10:53:51.606512Z",
     "shell.execute_reply": "2021-08-12T10:53:51.606008Z",
     "shell.execute_reply.started": "2021-08-12T10:29:35.554006Z"
    },
    "papermill": {
     "duration": 0.065651,
     "end_time": "2021-08-12T10:53:51.606650",
     "exception": false,
     "start_time": "2021-08-12T10:53:51.540999",
     "status": "completed"
    },
    "tags": []
   },
   "outputs": [],
   "source": [
    "from sklearn.model_selection import RandomizedSearchCV"
   ]
  },
  {
   "cell_type": "code",
   "execution_count": 25,
   "id": "ac77ad7c",
   "metadata": {
    "execution": {
     "iopub.execute_input": "2021-08-12T10:53:51.734833Z",
     "iopub.status.busy": "2021-08-12T10:53:51.734133Z",
     "iopub.status.idle": "2021-08-12T10:55:10.801025Z",
     "shell.execute_reply": "2021-08-12T10:55:10.801546Z",
     "shell.execute_reply.started": "2021-08-12T10:40:07.549828Z"
    },
    "papermill": {
     "duration": 79.135883,
     "end_time": "2021-08-12T10:55:10.801747",
     "exception": false,
     "start_time": "2021-08-12T10:53:51.665864",
     "status": "completed"
    },
    "tags": []
   },
   "outputs": [
    {
     "name": "stdout",
     "output_type": "stream",
     "text": [
      "Fitting 5 folds for each of 21 candidates, totalling 105 fits\n"
     ]
    },
    {
     "name": "stderr",
     "output_type": "stream",
     "text": [
      "[Parallel(n_jobs=1)]: Using backend SequentialBackend with 1 concurrent workers.\n",
      "[Parallel(n_jobs=1)]: Done 105 out of 105 | elapsed:  1.3min finished\n"
     ]
    },
    {
     "data": {
      "text/plain": [
       "RandomizedSearchCV(cv=5, estimator=RandomForestClassifier(), n_iter=21,\n",
       "                   param_distributions={'bootstrap': [True, False],\n",
       "                                        'max_depth': [None, 5, 10, 20, 30, 40,\n",
       "                                                      50],\n",
       "                                        'min_samples_leaf': array([ 1,  3,  5,  7,  9, 11, 13, 15, 17, 19]),\n",
       "                                        'min_samples_split': [2, 5, 7, 10],\n",
       "                                        'n_estimators': array([ 10,  60, 110, 160, 210, 260, 310, 360, 410, 460, 510, 560, 610,\n",
       "       660, 710, 760, 810, 860, 910, 960])},\n",
       "                   verbose=True)"
      ]
     },
     "execution_count": 25,
     "metadata": {},
     "output_type": "execute_result"
    }
   ],
   "source": [
    "rf_grid = { \"n_estimators\"  : np.arange(10, 1000, 50), \n",
    "            \"max_depth\": [None,5,10, 20, 30, 40, 50],\n",
    "            \"min_samples_split\": [2, 5, 7, 10],\n",
    "            \"min_samples_leaf\": np.arange(1, 20, 2),\n",
    "            \"bootstrap\": [True, False],\n",
    "}\n",
    "\n",
    "rs_rf = RandomizedSearchCV(RandomForestClassifier(), param_distributions=rf_grid, cv = 5, n_iter=21, verbose=True)\n",
    "\n",
    "rs_rf.fit(x_train, y_train)"
   ]
  },
  {
   "cell_type": "code",
   "execution_count": 26,
   "id": "00a75db8",
   "metadata": {
    "execution": {
     "iopub.execute_input": "2021-08-12T10:55:10.929071Z",
     "iopub.status.busy": "2021-08-12T10:55:10.928113Z",
     "iopub.status.idle": "2021-08-12T10:55:10.932550Z",
     "shell.execute_reply": "2021-08-12T10:55:10.932074Z",
     "shell.execute_reply.started": "2021-08-12T10:42:31.140203Z"
    },
    "papermill": {
     "duration": 0.069794,
     "end_time": "2021-08-12T10:55:10.932687",
     "exception": false,
     "start_time": "2021-08-12T10:55:10.862893",
     "status": "completed"
    },
    "tags": []
   },
   "outputs": [
    {
     "data": {
      "text/plain": [
       "{'n_estimators': 660,\n",
       " 'min_samples_split': 10,\n",
       " 'min_samples_leaf': 1,\n",
       " 'max_depth': 5,\n",
       " 'bootstrap': True}"
      ]
     },
     "execution_count": 26,
     "metadata": {},
     "output_type": "execute_result"
    }
   ],
   "source": [
    "rs_rf.best_params_"
   ]
  },
  {
   "cell_type": "markdown",
   "id": "3a1a9623",
   "metadata": {
    "papermill": {
     "duration": 0.059796,
     "end_time": "2021-08-12T10:55:11.052694",
     "exception": false,
     "start_time": "2021-08-12T10:55:10.992898",
     "status": "completed"
    },
    "tags": []
   },
   "source": []
  },
  {
   "cell_type": "code",
   "execution_count": 27,
   "id": "b0d9a6d4",
   "metadata": {
    "execution": {
     "iopub.execute_input": "2021-08-12T10:55:11.183504Z",
     "iopub.status.busy": "2021-08-12T10:55:11.182443Z",
     "iopub.status.idle": "2021-08-12T10:55:11.253713Z",
     "shell.execute_reply": "2021-08-12T10:55:11.254228Z",
     "shell.execute_reply.started": "2021-08-12T10:43:41.971721Z"
    },
    "papermill": {
     "duration": 0.140772,
     "end_time": "2021-08-12T10:55:11.254395",
     "exception": false,
     "start_time": "2021-08-12T10:55:11.113623",
     "status": "completed"
    },
    "tags": []
   },
   "outputs": [
    {
     "data": {
      "text/plain": [
       "0.8547486033519553"
      ]
     },
     "execution_count": 27,
     "metadata": {},
     "output_type": "execute_result"
    }
   ],
   "source": [
    "rs_rf.score(x_test, y_test)"
   ]
  },
  {
   "cell_type": "markdown",
   "id": "ce6783fd",
   "metadata": {
    "papermill": {
     "duration": 0.059923,
     "end_time": "2021-08-12T10:55:11.375027",
     "exception": false,
     "start_time": "2021-08-12T10:55:11.315104",
     "status": "completed"
    },
    "tags": []
   },
   "source": [
    "## Looking at test data"
   ]
  },
  {
   "cell_type": "code",
   "execution_count": 28,
   "id": "87e5d842",
   "metadata": {
    "execution": {
     "iopub.execute_input": "2021-08-12T10:55:11.499655Z",
     "iopub.status.busy": "2021-08-12T10:55:11.498705Z",
     "iopub.status.idle": "2021-08-12T10:55:11.531837Z",
     "shell.execute_reply": "2021-08-12T10:55:11.532284Z",
     "shell.execute_reply.started": "2021-08-12T10:24:44.170668Z"
    },
    "papermill": {
     "duration": 0.096882,
     "end_time": "2021-08-12T10:55:11.532467",
     "exception": false,
     "start_time": "2021-08-12T10:55:11.435585",
     "status": "completed"
    },
    "tags": []
   },
   "outputs": [
    {
     "data": {
      "text/html": [
       "<div>\n",
       "<style scoped>\n",
       "    .dataframe tbody tr th:only-of-type {\n",
       "        vertical-align: middle;\n",
       "    }\n",
       "\n",
       "    .dataframe tbody tr th {\n",
       "        vertical-align: top;\n",
       "    }\n",
       "\n",
       "    .dataframe thead th {\n",
       "        text-align: right;\n",
       "    }\n",
       "</style>\n",
       "<table border=\"1\" class=\"dataframe\">\n",
       "  <thead>\n",
       "    <tr style=\"text-align: right;\">\n",
       "      <th></th>\n",
       "      <th>PassengerId</th>\n",
       "      <th>Pclass</th>\n",
       "      <th>Name</th>\n",
       "      <th>Sex</th>\n",
       "      <th>Age</th>\n",
       "      <th>SibSp</th>\n",
       "      <th>Parch</th>\n",
       "      <th>Ticket</th>\n",
       "      <th>Fare</th>\n",
       "      <th>Cabin</th>\n",
       "      <th>Embarked</th>\n",
       "    </tr>\n",
       "  </thead>\n",
       "  <tbody>\n",
       "    <tr>\n",
       "      <th>0</th>\n",
       "      <td>892</td>\n",
       "      <td>3</td>\n",
       "      <td>Kelly, Mr. James</td>\n",
       "      <td>male</td>\n",
       "      <td>34.5</td>\n",
       "      <td>0</td>\n",
       "      <td>0</td>\n",
       "      <td>330911</td>\n",
       "      <td>7.8292</td>\n",
       "      <td>NaN</td>\n",
       "      <td>Q</td>\n",
       "    </tr>\n",
       "    <tr>\n",
       "      <th>1</th>\n",
       "      <td>893</td>\n",
       "      <td>3</td>\n",
       "      <td>Wilkes, Mrs. James (Ellen Needs)</td>\n",
       "      <td>female</td>\n",
       "      <td>47.0</td>\n",
       "      <td>1</td>\n",
       "      <td>0</td>\n",
       "      <td>363272</td>\n",
       "      <td>7.0000</td>\n",
       "      <td>NaN</td>\n",
       "      <td>S</td>\n",
       "    </tr>\n",
       "    <tr>\n",
       "      <th>2</th>\n",
       "      <td>894</td>\n",
       "      <td>2</td>\n",
       "      <td>Myles, Mr. Thomas Francis</td>\n",
       "      <td>male</td>\n",
       "      <td>62.0</td>\n",
       "      <td>0</td>\n",
       "      <td>0</td>\n",
       "      <td>240276</td>\n",
       "      <td>9.6875</td>\n",
       "      <td>NaN</td>\n",
       "      <td>Q</td>\n",
       "    </tr>\n",
       "    <tr>\n",
       "      <th>3</th>\n",
       "      <td>895</td>\n",
       "      <td>3</td>\n",
       "      <td>Wirz, Mr. Albert</td>\n",
       "      <td>male</td>\n",
       "      <td>27.0</td>\n",
       "      <td>0</td>\n",
       "      <td>0</td>\n",
       "      <td>315154</td>\n",
       "      <td>8.6625</td>\n",
       "      <td>NaN</td>\n",
       "      <td>S</td>\n",
       "    </tr>\n",
       "    <tr>\n",
       "      <th>4</th>\n",
       "      <td>896</td>\n",
       "      <td>3</td>\n",
       "      <td>Hirvonen, Mrs. Alexander (Helga E Lindqvist)</td>\n",
       "      <td>female</td>\n",
       "      <td>22.0</td>\n",
       "      <td>1</td>\n",
       "      <td>1</td>\n",
       "      <td>3101298</td>\n",
       "      <td>12.2875</td>\n",
       "      <td>NaN</td>\n",
       "      <td>S</td>\n",
       "    </tr>\n",
       "    <tr>\n",
       "      <th>...</th>\n",
       "      <td>...</td>\n",
       "      <td>...</td>\n",
       "      <td>...</td>\n",
       "      <td>...</td>\n",
       "      <td>...</td>\n",
       "      <td>...</td>\n",
       "      <td>...</td>\n",
       "      <td>...</td>\n",
       "      <td>...</td>\n",
       "      <td>...</td>\n",
       "      <td>...</td>\n",
       "    </tr>\n",
       "    <tr>\n",
       "      <th>413</th>\n",
       "      <td>1305</td>\n",
       "      <td>3</td>\n",
       "      <td>Spector, Mr. Woolf</td>\n",
       "      <td>male</td>\n",
       "      <td>NaN</td>\n",
       "      <td>0</td>\n",
       "      <td>0</td>\n",
       "      <td>A.5. 3236</td>\n",
       "      <td>8.0500</td>\n",
       "      <td>NaN</td>\n",
       "      <td>S</td>\n",
       "    </tr>\n",
       "    <tr>\n",
       "      <th>414</th>\n",
       "      <td>1306</td>\n",
       "      <td>1</td>\n",
       "      <td>Oliva y Ocana, Dona. Fermina</td>\n",
       "      <td>female</td>\n",
       "      <td>39.0</td>\n",
       "      <td>0</td>\n",
       "      <td>0</td>\n",
       "      <td>PC 17758</td>\n",
       "      <td>108.9000</td>\n",
       "      <td>C105</td>\n",
       "      <td>C</td>\n",
       "    </tr>\n",
       "    <tr>\n",
       "      <th>415</th>\n",
       "      <td>1307</td>\n",
       "      <td>3</td>\n",
       "      <td>Saether, Mr. Simon Sivertsen</td>\n",
       "      <td>male</td>\n",
       "      <td>38.5</td>\n",
       "      <td>0</td>\n",
       "      <td>0</td>\n",
       "      <td>SOTON/O.Q. 3101262</td>\n",
       "      <td>7.2500</td>\n",
       "      <td>NaN</td>\n",
       "      <td>S</td>\n",
       "    </tr>\n",
       "    <tr>\n",
       "      <th>416</th>\n",
       "      <td>1308</td>\n",
       "      <td>3</td>\n",
       "      <td>Ware, Mr. Frederick</td>\n",
       "      <td>male</td>\n",
       "      <td>NaN</td>\n",
       "      <td>0</td>\n",
       "      <td>0</td>\n",
       "      <td>359309</td>\n",
       "      <td>8.0500</td>\n",
       "      <td>NaN</td>\n",
       "      <td>S</td>\n",
       "    </tr>\n",
       "    <tr>\n",
       "      <th>417</th>\n",
       "      <td>1309</td>\n",
       "      <td>3</td>\n",
       "      <td>Peter, Master. Michael J</td>\n",
       "      <td>male</td>\n",
       "      <td>NaN</td>\n",
       "      <td>1</td>\n",
       "      <td>1</td>\n",
       "      <td>2668</td>\n",
       "      <td>22.3583</td>\n",
       "      <td>NaN</td>\n",
       "      <td>C</td>\n",
       "    </tr>\n",
       "  </tbody>\n",
       "</table>\n",
       "<p>418 rows × 11 columns</p>\n",
       "</div>"
      ],
      "text/plain": [
       "     PassengerId  Pclass                                          Name  \\\n",
       "0            892       3                              Kelly, Mr. James   \n",
       "1            893       3              Wilkes, Mrs. James (Ellen Needs)   \n",
       "2            894       2                     Myles, Mr. Thomas Francis   \n",
       "3            895       3                              Wirz, Mr. Albert   \n",
       "4            896       3  Hirvonen, Mrs. Alexander (Helga E Lindqvist)   \n",
       "..           ...     ...                                           ...   \n",
       "413         1305       3                            Spector, Mr. Woolf   \n",
       "414         1306       1                  Oliva y Ocana, Dona. Fermina   \n",
       "415         1307       3                  Saether, Mr. Simon Sivertsen   \n",
       "416         1308       3                           Ware, Mr. Frederick   \n",
       "417         1309       3                      Peter, Master. Michael J   \n",
       "\n",
       "        Sex   Age  SibSp  Parch              Ticket      Fare Cabin Embarked  \n",
       "0      male  34.5      0      0              330911    7.8292   NaN        Q  \n",
       "1    female  47.0      1      0              363272    7.0000   NaN        S  \n",
       "2      male  62.0      0      0              240276    9.6875   NaN        Q  \n",
       "3      male  27.0      0      0              315154    8.6625   NaN        S  \n",
       "4    female  22.0      1      1             3101298   12.2875   NaN        S  \n",
       "..      ...   ...    ...    ...                 ...       ...   ...      ...  \n",
       "413    male   NaN      0      0           A.5. 3236    8.0500   NaN        S  \n",
       "414  female  39.0      0      0            PC 17758  108.9000  C105        C  \n",
       "415    male  38.5      0      0  SOTON/O.Q. 3101262    7.2500   NaN        S  \n",
       "416    male   NaN      0      0              359309    8.0500   NaN        S  \n",
       "417    male   NaN      1      1                2668   22.3583   NaN        C  \n",
       "\n",
       "[418 rows x 11 columns]"
      ]
     },
     "execution_count": 28,
     "metadata": {},
     "output_type": "execute_result"
    }
   ],
   "source": [
    "testdf = pd.read_csv(\"/kaggle/input/titanic/test.csv\")\n",
    "testdf"
   ]
  },
  {
   "cell_type": "code",
   "execution_count": 29,
   "id": "a458add5",
   "metadata": {
    "execution": {
     "iopub.execute_input": "2021-08-12T10:55:11.658241Z",
     "iopub.status.busy": "2021-08-12T10:55:11.657262Z",
     "iopub.status.idle": "2021-08-12T10:55:11.675689Z",
     "shell.execute_reply": "2021-08-12T10:55:11.676167Z",
     "shell.execute_reply.started": "2021-08-12T10:24:44.205901Z"
    },
    "papermill": {
     "duration": 0.082887,
     "end_time": "2021-08-12T10:55:11.676341",
     "exception": false,
     "start_time": "2021-08-12T10:55:11.593454",
     "status": "completed"
    },
    "tags": []
   },
   "outputs": [
    {
     "data": {
      "text/html": [
       "<div>\n",
       "<style scoped>\n",
       "    .dataframe tbody tr th:only-of-type {\n",
       "        vertical-align: middle;\n",
       "    }\n",
       "\n",
       "    .dataframe tbody tr th {\n",
       "        vertical-align: top;\n",
       "    }\n",
       "\n",
       "    .dataframe thead th {\n",
       "        text-align: right;\n",
       "    }\n",
       "</style>\n",
       "<table border=\"1\" class=\"dataframe\">\n",
       "  <thead>\n",
       "    <tr style=\"text-align: right;\">\n",
       "      <th></th>\n",
       "      <th>Survived</th>\n",
       "      <th>Pclass</th>\n",
       "      <th>Age</th>\n",
       "      <th>SibSp</th>\n",
       "      <th>Parch</th>\n",
       "      <th>Fare</th>\n",
       "      <th>male</th>\n",
       "      <th>Q</th>\n",
       "      <th>S</th>\n",
       "    </tr>\n",
       "  </thead>\n",
       "  <tbody>\n",
       "    <tr>\n",
       "      <th>0</th>\n",
       "      <td>0</td>\n",
       "      <td>3</td>\n",
       "      <td>22.000000</td>\n",
       "      <td>1</td>\n",
       "      <td>0</td>\n",
       "      <td>7.2500</td>\n",
       "      <td>1</td>\n",
       "      <td>0</td>\n",
       "      <td>1</td>\n",
       "    </tr>\n",
       "    <tr>\n",
       "      <th>1</th>\n",
       "      <td>1</td>\n",
       "      <td>1</td>\n",
       "      <td>38.000000</td>\n",
       "      <td>1</td>\n",
       "      <td>0</td>\n",
       "      <td>71.2833</td>\n",
       "      <td>0</td>\n",
       "      <td>0</td>\n",
       "      <td>0</td>\n",
       "    </tr>\n",
       "    <tr>\n",
       "      <th>2</th>\n",
       "      <td>1</td>\n",
       "      <td>3</td>\n",
       "      <td>26.000000</td>\n",
       "      <td>0</td>\n",
       "      <td>0</td>\n",
       "      <td>7.9250</td>\n",
       "      <td>0</td>\n",
       "      <td>0</td>\n",
       "      <td>1</td>\n",
       "    </tr>\n",
       "    <tr>\n",
       "      <th>3</th>\n",
       "      <td>1</td>\n",
       "      <td>1</td>\n",
       "      <td>35.000000</td>\n",
       "      <td>1</td>\n",
       "      <td>0</td>\n",
       "      <td>53.1000</td>\n",
       "      <td>0</td>\n",
       "      <td>0</td>\n",
       "      <td>1</td>\n",
       "    </tr>\n",
       "    <tr>\n",
       "      <th>4</th>\n",
       "      <td>0</td>\n",
       "      <td>3</td>\n",
       "      <td>35.000000</td>\n",
       "      <td>0</td>\n",
       "      <td>0</td>\n",
       "      <td>8.0500</td>\n",
       "      <td>1</td>\n",
       "      <td>0</td>\n",
       "      <td>1</td>\n",
       "    </tr>\n",
       "    <tr>\n",
       "      <th>...</th>\n",
       "      <td>...</td>\n",
       "      <td>...</td>\n",
       "      <td>...</td>\n",
       "      <td>...</td>\n",
       "      <td>...</td>\n",
       "      <td>...</td>\n",
       "      <td>...</td>\n",
       "      <td>...</td>\n",
       "      <td>...</td>\n",
       "    </tr>\n",
       "    <tr>\n",
       "      <th>886</th>\n",
       "      <td>0</td>\n",
       "      <td>2</td>\n",
       "      <td>27.000000</td>\n",
       "      <td>0</td>\n",
       "      <td>0</td>\n",
       "      <td>13.0000</td>\n",
       "      <td>1</td>\n",
       "      <td>0</td>\n",
       "      <td>1</td>\n",
       "    </tr>\n",
       "    <tr>\n",
       "      <th>887</th>\n",
       "      <td>1</td>\n",
       "      <td>1</td>\n",
       "      <td>19.000000</td>\n",
       "      <td>0</td>\n",
       "      <td>0</td>\n",
       "      <td>30.0000</td>\n",
       "      <td>0</td>\n",
       "      <td>0</td>\n",
       "      <td>1</td>\n",
       "    </tr>\n",
       "    <tr>\n",
       "      <th>888</th>\n",
       "      <td>0</td>\n",
       "      <td>3</td>\n",
       "      <td>29.699118</td>\n",
       "      <td>1</td>\n",
       "      <td>2</td>\n",
       "      <td>23.4500</td>\n",
       "      <td>0</td>\n",
       "      <td>0</td>\n",
       "      <td>1</td>\n",
       "    </tr>\n",
       "    <tr>\n",
       "      <th>889</th>\n",
       "      <td>1</td>\n",
       "      <td>1</td>\n",
       "      <td>26.000000</td>\n",
       "      <td>0</td>\n",
       "      <td>0</td>\n",
       "      <td>30.0000</td>\n",
       "      <td>1</td>\n",
       "      <td>0</td>\n",
       "      <td>0</td>\n",
       "    </tr>\n",
       "    <tr>\n",
       "      <th>890</th>\n",
       "      <td>0</td>\n",
       "      <td>3</td>\n",
       "      <td>32.000000</td>\n",
       "      <td>0</td>\n",
       "      <td>0</td>\n",
       "      <td>7.7500</td>\n",
       "      <td>1</td>\n",
       "      <td>1</td>\n",
       "      <td>0</td>\n",
       "    </tr>\n",
       "  </tbody>\n",
       "</table>\n",
       "<p>891 rows × 9 columns</p>\n",
       "</div>"
      ],
      "text/plain": [
       "     Survived  Pclass        Age  SibSp  Parch     Fare  male  Q  S\n",
       "0           0       3  22.000000      1      0   7.2500     1  0  1\n",
       "1           1       1  38.000000      1      0  71.2833     0  0  0\n",
       "2           1       3  26.000000      0      0   7.9250     0  0  1\n",
       "3           1       1  35.000000      1      0  53.1000     0  0  1\n",
       "4           0       3  35.000000      0      0   8.0500     1  0  1\n",
       "..        ...     ...        ...    ...    ...      ...   ... .. ..\n",
       "886         0       2  27.000000      0      0  13.0000     1  0  1\n",
       "887         1       1  19.000000      0      0  30.0000     0  0  1\n",
       "888         0       3  29.699118      1      2  23.4500     0  0  1\n",
       "889         1       1  26.000000      0      0  30.0000     1  0  0\n",
       "890         0       3  32.000000      0      0   7.7500     1  1  0\n",
       "\n",
       "[891 rows x 9 columns]"
      ]
     },
     "execution_count": 29,
     "metadata": {},
     "output_type": "execute_result"
    }
   ],
   "source": [
    "train_data"
   ]
  },
  {
   "cell_type": "code",
   "execution_count": 30,
   "id": "b9397460",
   "metadata": {
    "execution": {
     "iopub.execute_input": "2021-08-12T10:55:11.803284Z",
     "iopub.status.busy": "2021-08-12T10:55:11.802219Z",
     "iopub.status.idle": "2021-08-12T10:55:11.807646Z",
     "shell.execute_reply": "2021-08-12T10:55:11.808195Z",
     "shell.execute_reply.started": "2021-08-12T10:24:44.228025Z"
    },
    "papermill": {
     "duration": 0.070488,
     "end_time": "2021-08-12T10:55:11.808365",
     "exception": false,
     "start_time": "2021-08-12T10:55:11.737877",
     "status": "completed"
    },
    "tags": []
   },
   "outputs": [],
   "source": [
    "testdf.drop(['PassengerId', 'Name','Cabin', 'Ticket'], axis=1, inplace =True)"
   ]
  },
  {
   "cell_type": "code",
   "execution_count": 31,
   "id": "030e93ab",
   "metadata": {
    "execution": {
     "iopub.execute_input": "2021-08-12T10:55:11.937255Z",
     "iopub.status.busy": "2021-08-12T10:55:11.936293Z",
     "iopub.status.idle": "2021-08-12T10:55:11.956222Z",
     "shell.execute_reply": "2021-08-12T10:55:11.956682Z",
     "shell.execute_reply.started": "2021-08-12T10:24:44.244199Z"
    },
    "papermill": {
     "duration": 0.087287,
     "end_time": "2021-08-12T10:55:11.956868",
     "exception": false,
     "start_time": "2021-08-12T10:55:11.869581",
     "status": "completed"
    },
    "tags": []
   },
   "outputs": [
    {
     "data": {
      "text/html": [
       "<div>\n",
       "<style scoped>\n",
       "    .dataframe tbody tr th:only-of-type {\n",
       "        vertical-align: middle;\n",
       "    }\n",
       "\n",
       "    .dataframe tbody tr th {\n",
       "        vertical-align: top;\n",
       "    }\n",
       "\n",
       "    .dataframe thead th {\n",
       "        text-align: right;\n",
       "    }\n",
       "</style>\n",
       "<table border=\"1\" class=\"dataframe\">\n",
       "  <thead>\n",
       "    <tr style=\"text-align: right;\">\n",
       "      <th></th>\n",
       "      <th>Pclass</th>\n",
       "      <th>Sex</th>\n",
       "      <th>Age</th>\n",
       "      <th>SibSp</th>\n",
       "      <th>Parch</th>\n",
       "      <th>Fare</th>\n",
       "      <th>Embarked</th>\n",
       "    </tr>\n",
       "  </thead>\n",
       "  <tbody>\n",
       "    <tr>\n",
       "      <th>0</th>\n",
       "      <td>3</td>\n",
       "      <td>male</td>\n",
       "      <td>34.5</td>\n",
       "      <td>0</td>\n",
       "      <td>0</td>\n",
       "      <td>7.8292</td>\n",
       "      <td>Q</td>\n",
       "    </tr>\n",
       "    <tr>\n",
       "      <th>1</th>\n",
       "      <td>3</td>\n",
       "      <td>female</td>\n",
       "      <td>47.0</td>\n",
       "      <td>1</td>\n",
       "      <td>0</td>\n",
       "      <td>7.0000</td>\n",
       "      <td>S</td>\n",
       "    </tr>\n",
       "    <tr>\n",
       "      <th>2</th>\n",
       "      <td>2</td>\n",
       "      <td>male</td>\n",
       "      <td>62.0</td>\n",
       "      <td>0</td>\n",
       "      <td>0</td>\n",
       "      <td>9.6875</td>\n",
       "      <td>Q</td>\n",
       "    </tr>\n",
       "    <tr>\n",
       "      <th>3</th>\n",
       "      <td>3</td>\n",
       "      <td>male</td>\n",
       "      <td>27.0</td>\n",
       "      <td>0</td>\n",
       "      <td>0</td>\n",
       "      <td>8.6625</td>\n",
       "      <td>S</td>\n",
       "    </tr>\n",
       "    <tr>\n",
       "      <th>4</th>\n",
       "      <td>3</td>\n",
       "      <td>female</td>\n",
       "      <td>22.0</td>\n",
       "      <td>1</td>\n",
       "      <td>1</td>\n",
       "      <td>12.2875</td>\n",
       "      <td>S</td>\n",
       "    </tr>\n",
       "    <tr>\n",
       "      <th>...</th>\n",
       "      <td>...</td>\n",
       "      <td>...</td>\n",
       "      <td>...</td>\n",
       "      <td>...</td>\n",
       "      <td>...</td>\n",
       "      <td>...</td>\n",
       "      <td>...</td>\n",
       "    </tr>\n",
       "    <tr>\n",
       "      <th>413</th>\n",
       "      <td>3</td>\n",
       "      <td>male</td>\n",
       "      <td>NaN</td>\n",
       "      <td>0</td>\n",
       "      <td>0</td>\n",
       "      <td>8.0500</td>\n",
       "      <td>S</td>\n",
       "    </tr>\n",
       "    <tr>\n",
       "      <th>414</th>\n",
       "      <td>1</td>\n",
       "      <td>female</td>\n",
       "      <td>39.0</td>\n",
       "      <td>0</td>\n",
       "      <td>0</td>\n",
       "      <td>108.9000</td>\n",
       "      <td>C</td>\n",
       "    </tr>\n",
       "    <tr>\n",
       "      <th>415</th>\n",
       "      <td>3</td>\n",
       "      <td>male</td>\n",
       "      <td>38.5</td>\n",
       "      <td>0</td>\n",
       "      <td>0</td>\n",
       "      <td>7.2500</td>\n",
       "      <td>S</td>\n",
       "    </tr>\n",
       "    <tr>\n",
       "      <th>416</th>\n",
       "      <td>3</td>\n",
       "      <td>male</td>\n",
       "      <td>NaN</td>\n",
       "      <td>0</td>\n",
       "      <td>0</td>\n",
       "      <td>8.0500</td>\n",
       "      <td>S</td>\n",
       "    </tr>\n",
       "    <tr>\n",
       "      <th>417</th>\n",
       "      <td>3</td>\n",
       "      <td>male</td>\n",
       "      <td>NaN</td>\n",
       "      <td>1</td>\n",
       "      <td>1</td>\n",
       "      <td>22.3583</td>\n",
       "      <td>C</td>\n",
       "    </tr>\n",
       "  </tbody>\n",
       "</table>\n",
       "<p>418 rows × 7 columns</p>\n",
       "</div>"
      ],
      "text/plain": [
       "     Pclass     Sex   Age  SibSp  Parch      Fare Embarked\n",
       "0         3    male  34.5      0      0    7.8292        Q\n",
       "1         3  female  47.0      1      0    7.0000        S\n",
       "2         2    male  62.0      0      0    9.6875        Q\n",
       "3         3    male  27.0      0      0    8.6625        S\n",
       "4         3  female  22.0      1      1   12.2875        S\n",
       "..      ...     ...   ...    ...    ...       ...      ...\n",
       "413       3    male   NaN      0      0    8.0500        S\n",
       "414       1  female  39.0      0      0  108.9000        C\n",
       "415       3    male  38.5      0      0    7.2500        S\n",
       "416       3    male   NaN      0      0    8.0500        S\n",
       "417       3    male   NaN      1      1   22.3583        C\n",
       "\n",
       "[418 rows x 7 columns]"
      ]
     },
     "execution_count": 31,
     "metadata": {},
     "output_type": "execute_result"
    }
   ],
   "source": [
    "testdf"
   ]
  },
  {
   "cell_type": "markdown",
   "id": "1c085a88",
   "metadata": {
    "papermill": {
     "duration": 0.062698,
     "end_time": "2021-08-12T10:55:12.082213",
     "exception": false,
     "start_time": "2021-08-12T10:55:12.019515",
     "status": "completed"
    },
    "tags": []
   },
   "source": [
    "## Filling missing values and encoding classification data"
   ]
  },
  {
   "cell_type": "code",
   "execution_count": 32,
   "id": "8de28772",
   "metadata": {
    "execution": {
     "iopub.execute_input": "2021-08-12T10:55:12.212019Z",
     "iopub.status.busy": "2021-08-12T10:55:12.211066Z",
     "iopub.status.idle": "2021-08-12T10:55:12.215899Z",
     "shell.execute_reply": "2021-08-12T10:55:12.216345Z",
     "shell.execute_reply.started": "2021-08-12T10:24:44.273999Z"
    },
    "papermill": {
     "duration": 0.071421,
     "end_time": "2021-08-12T10:55:12.216524",
     "exception": false,
     "start_time": "2021-08-12T10:55:12.145103",
     "status": "completed"
    },
    "tags": []
   },
   "outputs": [],
   "source": [
    "mean_age = testdf.Age.mean()\n",
    "mean_age\n",
    "testdf['Age'].fillna(mean_age, inplace=True)\n"
   ]
  },
  {
   "cell_type": "code",
   "execution_count": 33,
   "id": "24f43f26",
   "metadata": {
    "execution": {
     "iopub.execute_input": "2021-08-12T10:55:12.344479Z",
     "iopub.status.busy": "2021-08-12T10:55:12.343479Z",
     "iopub.status.idle": "2021-08-12T10:55:12.348691Z",
     "shell.execute_reply": "2021-08-12T10:55:12.348126Z",
     "shell.execute_reply.started": "2021-08-12T10:24:44.281037Z"
    },
    "papermill": {
     "duration": 0.070221,
     "end_time": "2021-08-12T10:55:12.348864",
     "exception": false,
     "start_time": "2021-08-12T10:55:12.278643",
     "status": "completed"
    },
    "tags": []
   },
   "outputs": [],
   "source": [
    "testdf['Fare'].dropna(inplace=True)"
   ]
  },
  {
   "cell_type": "code",
   "execution_count": 34,
   "id": "20292de2",
   "metadata": {
    "execution": {
     "iopub.execute_input": "2021-08-12T10:55:12.482160Z",
     "iopub.status.busy": "2021-08-12T10:55:12.481464Z",
     "iopub.status.idle": "2021-08-12T10:55:12.485673Z",
     "shell.execute_reply": "2021-08-12T10:55:12.485172Z",
     "shell.execute_reply.started": "2021-08-12T10:24:44.299480Z"
    },
    "papermill": {
     "duration": 0.074779,
     "end_time": "2021-08-12T10:55:12.485834",
     "exception": false,
     "start_time": "2021-08-12T10:55:12.411055",
     "status": "completed"
    },
    "tags": []
   },
   "outputs": [
    {
     "data": {
      "text/plain": [
       "Pclass      0\n",
       "Sex         0\n",
       "Age         0\n",
       "SibSp       0\n",
       "Parch       0\n",
       "Fare        0\n",
       "Embarked    0\n",
       "dtype: int64"
      ]
     },
     "execution_count": 34,
     "metadata": {},
     "output_type": "execute_result"
    }
   ],
   "source": [
    "testdf['Fare'].fillna(testdf.Fare.mean(), inplace=True)\n",
    "testdf.isna().sum()"
   ]
  },
  {
   "cell_type": "code",
   "execution_count": 35,
   "id": "a979d75e",
   "metadata": {
    "execution": {
     "iopub.execute_input": "2021-08-12T10:55:12.624067Z",
     "iopub.status.busy": "2021-08-12T10:55:12.623123Z",
     "iopub.status.idle": "2021-08-12T10:55:12.627420Z",
     "shell.execute_reply": "2021-08-12T10:55:12.626945Z",
     "shell.execute_reply.started": "2021-08-12T10:24:44.317169Z"
    },
    "papermill": {
     "duration": 0.078745,
     "end_time": "2021-08-12T10:55:12.627569",
     "exception": false,
     "start_time": "2021-08-12T10:55:12.548824",
     "status": "completed"
    },
    "tags": []
   },
   "outputs": [
    {
     "data": {
      "text/html": [
       "<div>\n",
       "<style scoped>\n",
       "    .dataframe tbody tr th:only-of-type {\n",
       "        vertical-align: middle;\n",
       "    }\n",
       "\n",
       "    .dataframe tbody tr th {\n",
       "        vertical-align: top;\n",
       "    }\n",
       "\n",
       "    .dataframe thead th {\n",
       "        text-align: right;\n",
       "    }\n",
       "</style>\n",
       "<table border=\"1\" class=\"dataframe\">\n",
       "  <thead>\n",
       "    <tr style=\"text-align: right;\">\n",
       "      <th></th>\n",
       "      <th>Q</th>\n",
       "      <th>S</th>\n",
       "    </tr>\n",
       "  </thead>\n",
       "  <tbody>\n",
       "    <tr>\n",
       "      <th>0</th>\n",
       "      <td>1</td>\n",
       "      <td>0</td>\n",
       "    </tr>\n",
       "    <tr>\n",
       "      <th>1</th>\n",
       "      <td>0</td>\n",
       "      <td>1</td>\n",
       "    </tr>\n",
       "    <tr>\n",
       "      <th>2</th>\n",
       "      <td>1</td>\n",
       "      <td>0</td>\n",
       "    </tr>\n",
       "    <tr>\n",
       "      <th>3</th>\n",
       "      <td>0</td>\n",
       "      <td>1</td>\n",
       "    </tr>\n",
       "    <tr>\n",
       "      <th>4</th>\n",
       "      <td>0</td>\n",
       "      <td>1</td>\n",
       "    </tr>\n",
       "    <tr>\n",
       "      <th>...</th>\n",
       "      <td>...</td>\n",
       "      <td>...</td>\n",
       "    </tr>\n",
       "    <tr>\n",
       "      <th>413</th>\n",
       "      <td>0</td>\n",
       "      <td>1</td>\n",
       "    </tr>\n",
       "    <tr>\n",
       "      <th>414</th>\n",
       "      <td>0</td>\n",
       "      <td>0</td>\n",
       "    </tr>\n",
       "    <tr>\n",
       "      <th>415</th>\n",
       "      <td>0</td>\n",
       "      <td>1</td>\n",
       "    </tr>\n",
       "    <tr>\n",
       "      <th>416</th>\n",
       "      <td>0</td>\n",
       "      <td>1</td>\n",
       "    </tr>\n",
       "    <tr>\n",
       "      <th>417</th>\n",
       "      <td>0</td>\n",
       "      <td>0</td>\n",
       "    </tr>\n",
       "  </tbody>\n",
       "</table>\n",
       "<p>418 rows × 2 columns</p>\n",
       "</div>"
      ],
      "text/plain": [
       "     Q  S\n",
       "0    1  0\n",
       "1    0  1\n",
       "2    1  0\n",
       "3    0  1\n",
       "4    0  1\n",
       "..  .. ..\n",
       "413  0  1\n",
       "414  0  0\n",
       "415  0  1\n",
       "416  0  1\n",
       "417  0  0\n",
       "\n",
       "[418 rows x 2 columns]"
      ]
     },
     "execution_count": 35,
     "metadata": {},
     "output_type": "execute_result"
    }
   ],
   "source": [
    "testdf_embarked = pd.get_dummies(testdf.Embarked, drop_first = True)\n",
    "testdf_embarked"
   ]
  },
  {
   "cell_type": "code",
   "execution_count": 36,
   "id": "b34369f5",
   "metadata": {
    "execution": {
     "iopub.execute_input": "2021-08-12T10:55:12.757201Z",
     "iopub.status.busy": "2021-08-12T10:55:12.756574Z",
     "iopub.status.idle": "2021-08-12T10:55:12.769199Z",
     "shell.execute_reply": "2021-08-12T10:55:12.769695Z",
     "shell.execute_reply.started": "2021-08-12T10:24:44.332368Z"
    },
    "papermill": {
     "duration": 0.079366,
     "end_time": "2021-08-12T10:55:12.769881",
     "exception": false,
     "start_time": "2021-08-12T10:55:12.690515",
     "status": "completed"
    },
    "tags": []
   },
   "outputs": [
    {
     "data": {
      "text/html": [
       "<div>\n",
       "<style scoped>\n",
       "    .dataframe tbody tr th:only-of-type {\n",
       "        vertical-align: middle;\n",
       "    }\n",
       "\n",
       "    .dataframe tbody tr th {\n",
       "        vertical-align: top;\n",
       "    }\n",
       "\n",
       "    .dataframe thead th {\n",
       "        text-align: right;\n",
       "    }\n",
       "</style>\n",
       "<table border=\"1\" class=\"dataframe\">\n",
       "  <thead>\n",
       "    <tr style=\"text-align: right;\">\n",
       "      <th></th>\n",
       "      <th>Pclass</th>\n",
       "      <th>Sex</th>\n",
       "      <th>Age</th>\n",
       "      <th>SibSp</th>\n",
       "      <th>Parch</th>\n",
       "      <th>Fare</th>\n",
       "      <th>Embarked</th>\n",
       "    </tr>\n",
       "  </thead>\n",
       "  <tbody>\n",
       "    <tr>\n",
       "      <th>0</th>\n",
       "      <td>3</td>\n",
       "      <td>male</td>\n",
       "      <td>34.5</td>\n",
       "      <td>0</td>\n",
       "      <td>0</td>\n",
       "      <td>7.8292</td>\n",
       "      <td>Q</td>\n",
       "    </tr>\n",
       "    <tr>\n",
       "      <th>1</th>\n",
       "      <td>3</td>\n",
       "      <td>female</td>\n",
       "      <td>47.0</td>\n",
       "      <td>1</td>\n",
       "      <td>0</td>\n",
       "      <td>7.0000</td>\n",
       "      <td>S</td>\n",
       "    </tr>\n",
       "    <tr>\n",
       "      <th>2</th>\n",
       "      <td>2</td>\n",
       "      <td>male</td>\n",
       "      <td>62.0</td>\n",
       "      <td>0</td>\n",
       "      <td>0</td>\n",
       "      <td>9.6875</td>\n",
       "      <td>Q</td>\n",
       "    </tr>\n",
       "    <tr>\n",
       "      <th>3</th>\n",
       "      <td>3</td>\n",
       "      <td>male</td>\n",
       "      <td>27.0</td>\n",
       "      <td>0</td>\n",
       "      <td>0</td>\n",
       "      <td>8.6625</td>\n",
       "      <td>S</td>\n",
       "    </tr>\n",
       "    <tr>\n",
       "      <th>4</th>\n",
       "      <td>3</td>\n",
       "      <td>female</td>\n",
       "      <td>22.0</td>\n",
       "      <td>1</td>\n",
       "      <td>1</td>\n",
       "      <td>12.2875</td>\n",
       "      <td>S</td>\n",
       "    </tr>\n",
       "  </tbody>\n",
       "</table>\n",
       "</div>"
      ],
      "text/plain": [
       "   Pclass     Sex   Age  SibSp  Parch     Fare Embarked\n",
       "0       3    male  34.5      0      0   7.8292        Q\n",
       "1       3  female  47.0      1      0   7.0000        S\n",
       "2       2    male  62.0      0      0   9.6875        Q\n",
       "3       3    male  27.0      0      0   8.6625        S\n",
       "4       3  female  22.0      1      1  12.2875        S"
      ]
     },
     "execution_count": 36,
     "metadata": {},
     "output_type": "execute_result"
    }
   ],
   "source": [
    "testdf.head()"
   ]
  },
  {
   "cell_type": "code",
   "execution_count": 37,
   "id": "51cb623c",
   "metadata": {
    "execution": {
     "iopub.execute_input": "2021-08-12T10:55:12.905779Z",
     "iopub.status.busy": "2021-08-12T10:55:12.904532Z",
     "iopub.status.idle": "2021-08-12T10:55:12.914445Z",
     "shell.execute_reply": "2021-08-12T10:55:12.914958Z",
     "shell.execute_reply.started": "2021-08-12T10:24:44.346639Z"
    },
    "papermill": {
     "duration": 0.08105,
     "end_time": "2021-08-12T10:55:12.915158",
     "exception": false,
     "start_time": "2021-08-12T10:55:12.834108",
     "status": "completed"
    },
    "tags": []
   },
   "outputs": [
    {
     "data": {
      "text/html": [
       "<div>\n",
       "<style scoped>\n",
       "    .dataframe tbody tr th:only-of-type {\n",
       "        vertical-align: middle;\n",
       "    }\n",
       "\n",
       "    .dataframe tbody tr th {\n",
       "        vertical-align: top;\n",
       "    }\n",
       "\n",
       "    .dataframe thead th {\n",
       "        text-align: right;\n",
       "    }\n",
       "</style>\n",
       "<table border=\"1\" class=\"dataframe\">\n",
       "  <thead>\n",
       "    <tr style=\"text-align: right;\">\n",
       "      <th></th>\n",
       "      <th>male</th>\n",
       "    </tr>\n",
       "  </thead>\n",
       "  <tbody>\n",
       "    <tr>\n",
       "      <th>0</th>\n",
       "      <td>1</td>\n",
       "    </tr>\n",
       "    <tr>\n",
       "      <th>1</th>\n",
       "      <td>0</td>\n",
       "    </tr>\n",
       "    <tr>\n",
       "      <th>2</th>\n",
       "      <td>1</td>\n",
       "    </tr>\n",
       "    <tr>\n",
       "      <th>3</th>\n",
       "      <td>1</td>\n",
       "    </tr>\n",
       "    <tr>\n",
       "      <th>4</th>\n",
       "      <td>0</td>\n",
       "    </tr>\n",
       "    <tr>\n",
       "      <th>...</th>\n",
       "      <td>...</td>\n",
       "    </tr>\n",
       "    <tr>\n",
       "      <th>413</th>\n",
       "      <td>1</td>\n",
       "    </tr>\n",
       "    <tr>\n",
       "      <th>414</th>\n",
       "      <td>0</td>\n",
       "    </tr>\n",
       "    <tr>\n",
       "      <th>415</th>\n",
       "      <td>1</td>\n",
       "    </tr>\n",
       "    <tr>\n",
       "      <th>416</th>\n",
       "      <td>1</td>\n",
       "    </tr>\n",
       "    <tr>\n",
       "      <th>417</th>\n",
       "      <td>1</td>\n",
       "    </tr>\n",
       "  </tbody>\n",
       "</table>\n",
       "<p>418 rows × 1 columns</p>\n",
       "</div>"
      ],
      "text/plain": [
       "     male\n",
       "0       1\n",
       "1       0\n",
       "2       1\n",
       "3       1\n",
       "4       0\n",
       "..    ...\n",
       "413     1\n",
       "414     0\n",
       "415     1\n",
       "416     1\n",
       "417     1\n",
       "\n",
       "[418 rows x 1 columns]"
      ]
     },
     "execution_count": 37,
     "metadata": {},
     "output_type": "execute_result"
    }
   ],
   "source": [
    "testdf_sex = pd.get_dummies(testdf.Sex, drop_first = True)\n",
    "testdf_sex\n"
   ]
  },
  {
   "cell_type": "code",
   "execution_count": 38,
   "id": "7e749151",
   "metadata": {
    "execution": {
     "iopub.execute_input": "2021-08-12T10:55:13.081331Z",
     "iopub.status.busy": "2021-08-12T10:55:13.080540Z",
     "iopub.status.idle": "2021-08-12T10:55:13.098538Z",
     "shell.execute_reply": "2021-08-12T10:55:13.099098Z",
     "shell.execute_reply.started": "2021-08-12T10:24:44.367894Z"
    },
    "papermill": {
     "duration": 0.097138,
     "end_time": "2021-08-12T10:55:13.099270",
     "exception": false,
     "start_time": "2021-08-12T10:55:13.002132",
     "status": "completed"
    },
    "tags": []
   },
   "outputs": [
    {
     "data": {
      "text/html": [
       "<div>\n",
       "<style scoped>\n",
       "    .dataframe tbody tr th:only-of-type {\n",
       "        vertical-align: middle;\n",
       "    }\n",
       "\n",
       "    .dataframe tbody tr th {\n",
       "        vertical-align: top;\n",
       "    }\n",
       "\n",
       "    .dataframe thead th {\n",
       "        text-align: right;\n",
       "    }\n",
       "</style>\n",
       "<table border=\"1\" class=\"dataframe\">\n",
       "  <thead>\n",
       "    <tr style=\"text-align: right;\">\n",
       "      <th></th>\n",
       "      <th>Pclass</th>\n",
       "      <th>Age</th>\n",
       "      <th>SibSp</th>\n",
       "      <th>Parch</th>\n",
       "      <th>Fare</th>\n",
       "      <th>male</th>\n",
       "      <th>Q</th>\n",
       "      <th>S</th>\n",
       "    </tr>\n",
       "  </thead>\n",
       "  <tbody>\n",
       "    <tr>\n",
       "      <th>0</th>\n",
       "      <td>3</td>\n",
       "      <td>34.50000</td>\n",
       "      <td>0</td>\n",
       "      <td>0</td>\n",
       "      <td>7.8292</td>\n",
       "      <td>1</td>\n",
       "      <td>1</td>\n",
       "      <td>0</td>\n",
       "    </tr>\n",
       "    <tr>\n",
       "      <th>1</th>\n",
       "      <td>3</td>\n",
       "      <td>47.00000</td>\n",
       "      <td>1</td>\n",
       "      <td>0</td>\n",
       "      <td>7.0000</td>\n",
       "      <td>0</td>\n",
       "      <td>0</td>\n",
       "      <td>1</td>\n",
       "    </tr>\n",
       "    <tr>\n",
       "      <th>2</th>\n",
       "      <td>2</td>\n",
       "      <td>62.00000</td>\n",
       "      <td>0</td>\n",
       "      <td>0</td>\n",
       "      <td>9.6875</td>\n",
       "      <td>1</td>\n",
       "      <td>1</td>\n",
       "      <td>0</td>\n",
       "    </tr>\n",
       "    <tr>\n",
       "      <th>3</th>\n",
       "      <td>3</td>\n",
       "      <td>27.00000</td>\n",
       "      <td>0</td>\n",
       "      <td>0</td>\n",
       "      <td>8.6625</td>\n",
       "      <td>1</td>\n",
       "      <td>0</td>\n",
       "      <td>1</td>\n",
       "    </tr>\n",
       "    <tr>\n",
       "      <th>4</th>\n",
       "      <td>3</td>\n",
       "      <td>22.00000</td>\n",
       "      <td>1</td>\n",
       "      <td>1</td>\n",
       "      <td>12.2875</td>\n",
       "      <td>0</td>\n",
       "      <td>0</td>\n",
       "      <td>1</td>\n",
       "    </tr>\n",
       "    <tr>\n",
       "      <th>...</th>\n",
       "      <td>...</td>\n",
       "      <td>...</td>\n",
       "      <td>...</td>\n",
       "      <td>...</td>\n",
       "      <td>...</td>\n",
       "      <td>...</td>\n",
       "      <td>...</td>\n",
       "      <td>...</td>\n",
       "    </tr>\n",
       "    <tr>\n",
       "      <th>413</th>\n",
       "      <td>3</td>\n",
       "      <td>30.27259</td>\n",
       "      <td>0</td>\n",
       "      <td>0</td>\n",
       "      <td>8.0500</td>\n",
       "      <td>1</td>\n",
       "      <td>0</td>\n",
       "      <td>1</td>\n",
       "    </tr>\n",
       "    <tr>\n",
       "      <th>414</th>\n",
       "      <td>1</td>\n",
       "      <td>39.00000</td>\n",
       "      <td>0</td>\n",
       "      <td>0</td>\n",
       "      <td>108.9000</td>\n",
       "      <td>0</td>\n",
       "      <td>0</td>\n",
       "      <td>0</td>\n",
       "    </tr>\n",
       "    <tr>\n",
       "      <th>415</th>\n",
       "      <td>3</td>\n",
       "      <td>38.50000</td>\n",
       "      <td>0</td>\n",
       "      <td>0</td>\n",
       "      <td>7.2500</td>\n",
       "      <td>1</td>\n",
       "      <td>0</td>\n",
       "      <td>1</td>\n",
       "    </tr>\n",
       "    <tr>\n",
       "      <th>416</th>\n",
       "      <td>3</td>\n",
       "      <td>30.27259</td>\n",
       "      <td>0</td>\n",
       "      <td>0</td>\n",
       "      <td>8.0500</td>\n",
       "      <td>1</td>\n",
       "      <td>0</td>\n",
       "      <td>1</td>\n",
       "    </tr>\n",
       "    <tr>\n",
       "      <th>417</th>\n",
       "      <td>3</td>\n",
       "      <td>30.27259</td>\n",
       "      <td>1</td>\n",
       "      <td>1</td>\n",
       "      <td>22.3583</td>\n",
       "      <td>1</td>\n",
       "      <td>0</td>\n",
       "      <td>0</td>\n",
       "    </tr>\n",
       "  </tbody>\n",
       "</table>\n",
       "<p>418 rows × 8 columns</p>\n",
       "</div>"
      ],
      "text/plain": [
       "     Pclass       Age  SibSp  Parch      Fare  male  Q  S\n",
       "0         3  34.50000      0      0    7.8292     1  1  0\n",
       "1         3  47.00000      1      0    7.0000     0  0  1\n",
       "2         2  62.00000      0      0    9.6875     1  1  0\n",
       "3         3  27.00000      0      0    8.6625     1  0  1\n",
       "4         3  22.00000      1      1   12.2875     0  0  1\n",
       "..      ...       ...    ...    ...       ...   ... .. ..\n",
       "413       3  30.27259      0      0    8.0500     1  0  1\n",
       "414       1  39.00000      0      0  108.9000     0  0  0\n",
       "415       3  38.50000      0      0    7.2500     1  0  1\n",
       "416       3  30.27259      0      0    8.0500     1  0  1\n",
       "417       3  30.27259      1      1   22.3583     1  0  0\n",
       "\n",
       "[418 rows x 8 columns]"
      ]
     },
     "execution_count": 38,
     "metadata": {},
     "output_type": "execute_result"
    }
   ],
   "source": [
    "test_data = pd.concat([testdf, testdf_sex, testdf_embarked],axis = 1)\n",
    "\n",
    "test_data.drop(['Embarked', 'Sex'], axis =1, inplace = True)\n",
    "test_data"
   ]
  },
  {
   "cell_type": "markdown",
   "id": "1c79024f",
   "metadata": {
    "papermill": {
     "duration": 0.065606,
     "end_time": "2021-08-12T10:55:13.231257",
     "exception": false,
     "start_time": "2021-08-12T10:55:13.165651",
     "status": "completed"
    },
    "tags": []
   },
   "source": [
    "## Moment of truth"
   ]
  },
  {
   "cell_type": "code",
   "execution_count": 39,
   "id": "42bce166",
   "metadata": {
    "execution": {
     "iopub.execute_input": "2021-08-12T10:55:13.365761Z",
     "iopub.status.busy": "2021-08-12T10:55:13.365082Z",
     "iopub.status.idle": "2021-08-12T10:55:13.393703Z",
     "shell.execute_reply": "2021-08-12T10:55:13.393154Z",
     "shell.execute_reply.started": "2021-08-12T10:24:44.399136Z"
    },
    "papermill": {
     "duration": 0.096846,
     "end_time": "2021-08-12T10:55:13.393855",
     "exception": false,
     "start_time": "2021-08-12T10:55:13.297009",
     "status": "completed"
    },
    "tags": []
   },
   "outputs": [
    {
     "data": {
      "text/html": [
       "<div>\n",
       "<style scoped>\n",
       "    .dataframe tbody tr th:only-of-type {\n",
       "        vertical-align: middle;\n",
       "    }\n",
       "\n",
       "    .dataframe tbody tr th {\n",
       "        vertical-align: top;\n",
       "    }\n",
       "\n",
       "    .dataframe thead th {\n",
       "        text-align: right;\n",
       "    }\n",
       "</style>\n",
       "<table border=\"1\" class=\"dataframe\">\n",
       "  <thead>\n",
       "    <tr style=\"text-align: right;\">\n",
       "      <th></th>\n",
       "      <th>0</th>\n",
       "    </tr>\n",
       "  </thead>\n",
       "  <tbody>\n",
       "    <tr>\n",
       "      <th>0</th>\n",
       "      <td>0</td>\n",
       "    </tr>\n",
       "    <tr>\n",
       "      <th>1</th>\n",
       "      <td>0</td>\n",
       "    </tr>\n",
       "    <tr>\n",
       "      <th>2</th>\n",
       "      <td>0</td>\n",
       "    </tr>\n",
       "    <tr>\n",
       "      <th>3</th>\n",
       "      <td>1</td>\n",
       "    </tr>\n",
       "    <tr>\n",
       "      <th>4</th>\n",
       "      <td>0</td>\n",
       "    </tr>\n",
       "    <tr>\n",
       "      <th>...</th>\n",
       "      <td>...</td>\n",
       "    </tr>\n",
       "    <tr>\n",
       "      <th>413</th>\n",
       "      <td>0</td>\n",
       "    </tr>\n",
       "    <tr>\n",
       "      <th>414</th>\n",
       "      <td>1</td>\n",
       "    </tr>\n",
       "    <tr>\n",
       "      <th>415</th>\n",
       "      <td>0</td>\n",
       "    </tr>\n",
       "    <tr>\n",
       "      <th>416</th>\n",
       "      <td>0</td>\n",
       "    </tr>\n",
       "    <tr>\n",
       "      <th>417</th>\n",
       "      <td>0</td>\n",
       "    </tr>\n",
       "  </tbody>\n",
       "</table>\n",
       "<p>418 rows × 1 columns</p>\n",
       "</div>"
      ],
      "text/plain": [
       "     0\n",
       "0    0\n",
       "1    0\n",
       "2    0\n",
       "3    1\n",
       "4    0\n",
       "..  ..\n",
       "413  0\n",
       "414  1\n",
       "415  0\n",
       "416  0\n",
       "417  0\n",
       "\n",
       "[418 rows x 1 columns]"
      ]
     },
     "execution_count": 39,
     "metadata": {},
     "output_type": "execute_result"
    }
   ],
   "source": [
    "final_pred = rff.predict(test_data)\n",
    "pred = pd.DataFrame(final_pred)\n",
    "pred"
   ]
  },
  {
   "cell_type": "code",
   "execution_count": 40,
   "id": "3a3ec152",
   "metadata": {
    "execution": {
     "iopub.execute_input": "2021-08-12T10:55:13.530966Z",
     "iopub.status.busy": "2021-08-12T10:55:13.530256Z",
     "iopub.status.idle": "2021-08-12T10:55:13.546908Z",
     "shell.execute_reply": "2021-08-12T10:55:13.546387Z",
     "shell.execute_reply.started": "2021-08-12T10:24:44.429919Z"
    },
    "papermill": {
     "duration": 0.087685,
     "end_time": "2021-08-12T10:55:13.547073",
     "exception": false,
     "start_time": "2021-08-12T10:55:13.459388",
     "status": "completed"
    },
    "tags": []
   },
   "outputs": [
    {
     "data": {
      "text/html": [
       "<div>\n",
       "<style scoped>\n",
       "    .dataframe tbody tr th:only-of-type {\n",
       "        vertical-align: middle;\n",
       "    }\n",
       "\n",
       "    .dataframe tbody tr th {\n",
       "        vertical-align: top;\n",
       "    }\n",
       "\n",
       "    .dataframe thead th {\n",
       "        text-align: right;\n",
       "    }\n",
       "</style>\n",
       "<table border=\"1\" class=\"dataframe\">\n",
       "  <thead>\n",
       "    <tr style=\"text-align: right;\">\n",
       "      <th></th>\n",
       "      <th>PassengerId</th>\n",
       "      <th>Survived</th>\n",
       "    </tr>\n",
       "  </thead>\n",
       "  <tbody>\n",
       "    <tr>\n",
       "      <th>0</th>\n",
       "      <td>892</td>\n",
       "      <td>0</td>\n",
       "    </tr>\n",
       "    <tr>\n",
       "      <th>1</th>\n",
       "      <td>893</td>\n",
       "      <td>1</td>\n",
       "    </tr>\n",
       "    <tr>\n",
       "      <th>2</th>\n",
       "      <td>894</td>\n",
       "      <td>0</td>\n",
       "    </tr>\n",
       "    <tr>\n",
       "      <th>3</th>\n",
       "      <td>895</td>\n",
       "      <td>0</td>\n",
       "    </tr>\n",
       "    <tr>\n",
       "      <th>4</th>\n",
       "      <td>896</td>\n",
       "      <td>1</td>\n",
       "    </tr>\n",
       "    <tr>\n",
       "      <th>...</th>\n",
       "      <td>...</td>\n",
       "      <td>...</td>\n",
       "    </tr>\n",
       "    <tr>\n",
       "      <th>413</th>\n",
       "      <td>1305</td>\n",
       "      <td>0</td>\n",
       "    </tr>\n",
       "    <tr>\n",
       "      <th>414</th>\n",
       "      <td>1306</td>\n",
       "      <td>1</td>\n",
       "    </tr>\n",
       "    <tr>\n",
       "      <th>415</th>\n",
       "      <td>1307</td>\n",
       "      <td>0</td>\n",
       "    </tr>\n",
       "    <tr>\n",
       "      <th>416</th>\n",
       "      <td>1308</td>\n",
       "      <td>0</td>\n",
       "    </tr>\n",
       "    <tr>\n",
       "      <th>417</th>\n",
       "      <td>1309</td>\n",
       "      <td>0</td>\n",
       "    </tr>\n",
       "  </tbody>\n",
       "</table>\n",
       "<p>418 rows × 2 columns</p>\n",
       "</div>"
      ],
      "text/plain": [
       "     PassengerId  Survived\n",
       "0            892         0\n",
       "1            893         1\n",
       "2            894         0\n",
       "3            895         0\n",
       "4            896         1\n",
       "..           ...       ...\n",
       "413         1305         0\n",
       "414         1306         1\n",
       "415         1307         0\n",
       "416         1308         0\n",
       "417         1309         0\n",
       "\n",
       "[418 rows x 2 columns]"
      ]
     },
     "execution_count": 40,
     "metadata": {},
     "output_type": "execute_result"
    }
   ],
   "source": [
    "export = pd.read_csv(\"/kaggle/input/titanic/gender_submission.csv\")\n",
    "export\n"
   ]
  },
  {
   "cell_type": "code",
   "execution_count": 41,
   "id": "950e8886",
   "metadata": {
    "execution": {
     "iopub.execute_input": "2021-08-12T10:55:13.687145Z",
     "iopub.status.busy": "2021-08-12T10:55:13.686275Z",
     "iopub.status.idle": "2021-08-12T10:55:13.690145Z",
     "shell.execute_reply": "2021-08-12T10:55:13.689623Z",
     "shell.execute_reply.started": "2021-08-12T10:24:44.445619Z"
    },
    "papermill": {
     "duration": 0.077201,
     "end_time": "2021-08-12T10:55:13.690289",
     "exception": false,
     "start_time": "2021-08-12T10:55:13.613088",
     "status": "completed"
    },
    "tags": []
   },
   "outputs": [
    {
     "data": {
      "text/plain": [
       "0      0\n",
       "1      0\n",
       "2      0\n",
       "3      1\n",
       "4      0\n",
       "      ..\n",
       "413    0\n",
       "414    1\n",
       "415    0\n",
       "416    0\n",
       "417    0\n",
       "Name: Survived, Length: 418, dtype: int64"
      ]
     },
     "execution_count": 41,
     "metadata": {},
     "output_type": "execute_result"
    }
   ],
   "source": [
    "export['Survived'] = pred\n",
    "export['Survived']"
   ]
  },
  {
   "cell_type": "code",
   "execution_count": 42,
   "id": "eca25b3c",
   "metadata": {
    "execution": {
     "iopub.execute_input": "2021-08-12T10:55:13.829190Z",
     "iopub.status.busy": "2021-08-12T10:55:13.828430Z",
     "iopub.status.idle": "2021-08-12T10:55:13.835989Z",
     "shell.execute_reply": "2021-08-12T10:55:13.835407Z",
     "shell.execute_reply.started": "2021-08-12T10:24:44.457057Z"
    },
    "papermill": {
     "duration": 0.078578,
     "end_time": "2021-08-12T10:55:13.836133",
     "exception": false,
     "start_time": "2021-08-12T10:55:13.757555",
     "status": "completed"
    },
    "tags": []
   },
   "outputs": [],
   "source": [
    "export.to_csv('submission.csv')"
   ]
  },
  {
   "cell_type": "markdown",
   "id": "335c15d9",
   "metadata": {
    "papermill": {
     "duration": 0.06692,
     "end_time": "2021-08-12T10:55:13.969748",
     "exception": false,
     "start_time": "2021-08-12T10:55:13.902828",
     "status": "completed"
    },
    "tags": []
   },
   "source": [
    "# Prediction using tuned model"
   ]
  },
  {
   "cell_type": "code",
   "execution_count": 43,
   "id": "718052b7",
   "metadata": {
    "execution": {
     "iopub.execute_input": "2021-08-12T10:55:14.111195Z",
     "iopub.status.busy": "2021-08-12T10:55:14.110481Z",
     "iopub.status.idle": "2021-08-12T10:55:14.196473Z",
     "shell.execute_reply": "2021-08-12T10:55:14.195927Z",
     "shell.execute_reply.started": "2021-08-12T10:46:10.350519Z"
    },
    "papermill": {
     "duration": 0.159825,
     "end_time": "2021-08-12T10:55:14.196622",
     "exception": false,
     "start_time": "2021-08-12T10:55:14.036797",
     "status": "completed"
    },
    "tags": []
   },
   "outputs": [],
   "source": [
    "pred_final_2 = rs_rf.predict(test_data)"
   ]
  },
  {
   "cell_type": "code",
   "execution_count": 44,
   "id": "a9dcdef9",
   "metadata": {
    "execution": {
     "iopub.execute_input": "2021-08-12T10:55:14.334102Z",
     "iopub.status.busy": "2021-08-12T10:55:14.333438Z",
     "iopub.status.idle": "2021-08-12T10:55:14.336832Z",
     "shell.execute_reply": "2021-08-12T10:55:14.336207Z",
     "shell.execute_reply.started": "2021-08-12T10:46:20.133118Z"
    },
    "papermill": {
     "duration": 0.074221,
     "end_time": "2021-08-12T10:55:14.336975",
     "exception": false,
     "start_time": "2021-08-12T10:55:14.262754",
     "status": "completed"
    },
    "tags": []
   },
   "outputs": [],
   "source": [
    "pred2 = pd.DataFrame(pred_final_2)"
   ]
  },
  {
   "cell_type": "code",
   "execution_count": 45,
   "id": "b2bdca57",
   "metadata": {
    "execution": {
     "iopub.execute_input": "2021-08-12T10:55:14.478708Z",
     "iopub.status.busy": "2021-08-12T10:55:14.478068Z",
     "iopub.status.idle": "2021-08-12T10:55:14.481999Z",
     "shell.execute_reply": "2021-08-12T10:55:14.481352Z",
     "shell.execute_reply.started": "2021-08-12T10:46:23.606870Z"
    },
    "papermill": {
     "duration": 0.07902,
     "end_time": "2021-08-12T10:55:14.482149",
     "exception": false,
     "start_time": "2021-08-12T10:55:14.403129",
     "status": "completed"
    },
    "tags": []
   },
   "outputs": [
    {
     "data": {
      "text/html": [
       "<div>\n",
       "<style scoped>\n",
       "    .dataframe tbody tr th:only-of-type {\n",
       "        vertical-align: middle;\n",
       "    }\n",
       "\n",
       "    .dataframe tbody tr th {\n",
       "        vertical-align: top;\n",
       "    }\n",
       "\n",
       "    .dataframe thead th {\n",
       "        text-align: right;\n",
       "    }\n",
       "</style>\n",
       "<table border=\"1\" class=\"dataframe\">\n",
       "  <thead>\n",
       "    <tr style=\"text-align: right;\">\n",
       "      <th></th>\n",
       "      <th>0</th>\n",
       "    </tr>\n",
       "  </thead>\n",
       "  <tbody>\n",
       "    <tr>\n",
       "      <th>0</th>\n",
       "      <td>0</td>\n",
       "    </tr>\n",
       "    <tr>\n",
       "      <th>1</th>\n",
       "      <td>0</td>\n",
       "    </tr>\n",
       "    <tr>\n",
       "      <th>2</th>\n",
       "      <td>0</td>\n",
       "    </tr>\n",
       "    <tr>\n",
       "      <th>3</th>\n",
       "      <td>0</td>\n",
       "    </tr>\n",
       "    <tr>\n",
       "      <th>4</th>\n",
       "      <td>1</td>\n",
       "    </tr>\n",
       "    <tr>\n",
       "      <th>...</th>\n",
       "      <td>...</td>\n",
       "    </tr>\n",
       "    <tr>\n",
       "      <th>413</th>\n",
       "      <td>0</td>\n",
       "    </tr>\n",
       "    <tr>\n",
       "      <th>414</th>\n",
       "      <td>1</td>\n",
       "    </tr>\n",
       "    <tr>\n",
       "      <th>415</th>\n",
       "      <td>0</td>\n",
       "    </tr>\n",
       "    <tr>\n",
       "      <th>416</th>\n",
       "      <td>0</td>\n",
       "    </tr>\n",
       "    <tr>\n",
       "      <th>417</th>\n",
       "      <td>0</td>\n",
       "    </tr>\n",
       "  </tbody>\n",
       "</table>\n",
       "<p>418 rows × 1 columns</p>\n",
       "</div>"
      ],
      "text/plain": [
       "     0\n",
       "0    0\n",
       "1    0\n",
       "2    0\n",
       "3    0\n",
       "4    1\n",
       "..  ..\n",
       "413  0\n",
       "414  1\n",
       "415  0\n",
       "416  0\n",
       "417  0\n",
       "\n",
       "[418 rows x 1 columns]"
      ]
     },
     "execution_count": 45,
     "metadata": {},
     "output_type": "execute_result"
    }
   ],
   "source": [
    "pred2"
   ]
  },
  {
   "cell_type": "code",
   "execution_count": 46,
   "id": "f4055ddf",
   "metadata": {
    "execution": {
     "iopub.execute_input": "2021-08-12T10:55:14.622173Z",
     "iopub.status.busy": "2021-08-12T10:55:14.621164Z",
     "iopub.status.idle": "2021-08-12T10:55:14.626199Z",
     "shell.execute_reply": "2021-08-12T10:55:14.626678Z",
     "shell.execute_reply.started": "2021-08-12T10:49:54.084542Z"
    },
    "papermill": {
     "duration": 0.077581,
     "end_time": "2021-08-12T10:55:14.626886",
     "exception": false,
     "start_time": "2021-08-12T10:55:14.549305",
     "status": "completed"
    },
    "tags": []
   },
   "outputs": [],
   "source": [
    "export_alt = pd.read_csv('/kaggle/input/titanic/gender_submission.csv')"
   ]
  },
  {
   "cell_type": "code",
   "execution_count": 47,
   "id": "e4d4a9ad",
   "metadata": {
    "execution": {
     "iopub.execute_input": "2021-08-12T10:55:14.764186Z",
     "iopub.status.busy": "2021-08-12T10:55:14.763185Z",
     "iopub.status.idle": "2021-08-12T10:55:14.770855Z",
     "shell.execute_reply": "2021-08-12T10:55:14.771426Z",
     "shell.execute_reply.started": "2021-08-12T10:51:23.655797Z"
    },
    "papermill": {
     "duration": 0.077377,
     "end_time": "2021-08-12T10:55:14.771605",
     "exception": false,
     "start_time": "2021-08-12T10:55:14.694228",
     "status": "completed"
    },
    "tags": []
   },
   "outputs": [
    {
     "data": {
      "text/plain": [
       "0      0\n",
       "1      0\n",
       "2      0\n",
       "3      0\n",
       "4      1\n",
       "      ..\n",
       "413    0\n",
       "414    1\n",
       "415    0\n",
       "416    0\n",
       "417    0\n",
       "Name: Survived, Length: 418, dtype: int64"
      ]
     },
     "execution_count": 47,
     "metadata": {},
     "output_type": "execute_result"
    }
   ],
   "source": [
    "export_alt['Survived'] = pred2\n",
    "export_alt.Survived"
   ]
  },
  {
   "cell_type": "code",
   "execution_count": 48,
   "id": "2b5d181b",
   "metadata": {
    "execution": {
     "iopub.execute_input": "2021-08-12T10:55:14.909706Z",
     "iopub.status.busy": "2021-08-12T10:55:14.908701Z",
     "iopub.status.idle": "2021-08-12T10:55:14.916287Z",
     "shell.execute_reply": "2021-08-12T10:55:14.915576Z",
     "shell.execute_reply.started": "2021-08-12T10:52:09.851352Z"
    },
    "papermill": {
     "duration": 0.077804,
     "end_time": "2021-08-12T10:55:14.916434",
     "exception": false,
     "start_time": "2021-08-12T10:55:14.838630",
     "status": "completed"
    },
    "tags": []
   },
   "outputs": [],
   "source": [
    "export_alt.to_csv('submission2.csv')"
   ]
  },
  {
   "cell_type": "code",
   "execution_count": null,
   "id": "30f13478",
   "metadata": {
    "papermill": {
     "duration": 0.067045,
     "end_time": "2021-08-12T10:55:15.052028",
     "exception": false,
     "start_time": "2021-08-12T10:55:14.984983",
     "status": "completed"
    },
    "tags": []
   },
   "outputs": [],
   "source": []
  }
 ],
 "metadata": {
  "kernelspec": {
   "display_name": "Python 3",
   "language": "python",
   "name": "python3"
  },
  "language_info": {
   "codemirror_mode": {
    "name": "ipython",
    "version": 3
   },
   "file_extension": ".py",
   "mimetype": "text/x-python",
   "name": "python",
   "nbconvert_exporter": "python",
   "pygments_lexer": "ipython3",
   "version": "3.7.10"
  },
  "papermill": {
   "default_parameters": {},
   "duration": 99.867238,
   "end_time": "2021-08-12T10:55:15.928908",
   "environment_variables": {},
   "exception": null,
   "input_path": "__notebook__.ipynb",
   "output_path": "__notebook__.ipynb",
   "parameters": {},
   "start_time": "2021-08-12T10:53:36.061670",
   "version": "2.3.3"
  }
 },
 "nbformat": 4,
 "nbformat_minor": 5
}
